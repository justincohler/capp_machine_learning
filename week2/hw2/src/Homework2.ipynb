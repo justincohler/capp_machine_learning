{
 "cells": [
  {
   "cell_type": "code",
   "execution_count": 1,
   "metadata": {},
   "outputs": [
    {
     "name": "stderr",
     "output_type": "stream",
     "text": [
      "C:\\Program Files\\Anaconda3\\lib\\site-packages\\sklearn\\cross_validation.py:41: DeprecationWarning: This module was deprecated in version 0.18 in favor of the model_selection module into which all the refactored classes and functions are moved. Also note that the interface of the new CV iterators are different from that of this module. This module will be removed in 0.20.\n",
      "  \"This module will be removed in 0.20.\", DeprecationWarning)\n"
     ]
    }
   ],
   "source": [
    "import unittest\n",
    "from week2.hw2.src.neighbors import Neighbors\n",
    "import os"
   ]
  },
  {
   "cell_type": "code",
   "execution_count": 2,
   "metadata": {},
   "outputs": [],
   "source": [
    "dirname=os.path.dirname(os.path.realpath('__file__'))\n",
    "csv = os.path.join(dirname, '../data/credit-data.csv')"
   ]
  },
  {
   "cell_type": "markdown",
   "metadata": {},
   "source": [
    "# Data Ingestion\n",
    "The first element of the pipeline simply uses pandas to ingest the csv data, used below. This ingest implementation may evolve with other implementations."
   ]
  },
  {
   "cell_type": "code",
   "execution_count": 3,
   "metadata": {},
   "outputs": [
    {
     "data": {
      "text/html": [
       "<div>\n",
       "<style>\n",
       "    .dataframe thead tr:only-child th {\n",
       "        text-align: right;\n",
       "    }\n",
       "\n",
       "    .dataframe thead th {\n",
       "        text-align: left;\n",
       "    }\n",
       "\n",
       "    .dataframe tbody tr th {\n",
       "        vertical-align: top;\n",
       "    }\n",
       "</style>\n",
       "<table border=\"1\" class=\"dataframe\">\n",
       "  <thead>\n",
       "    <tr style=\"text-align: right;\">\n",
       "      <th></th>\n",
       "      <th>PersonID</th>\n",
       "      <th>SeriousDlqin2yrs</th>\n",
       "      <th>RevolvingUtilizationOfUnsecuredLines</th>\n",
       "      <th>age</th>\n",
       "      <th>zipcode</th>\n",
       "      <th>NumberOfTime30-59DaysPastDueNotWorse</th>\n",
       "      <th>DebtRatio</th>\n",
       "      <th>MonthlyIncome</th>\n",
       "      <th>NumberOfOpenCreditLinesAndLoans</th>\n",
       "      <th>NumberOfTimes90DaysLate</th>\n",
       "      <th>NumberRealEstateLoansOrLines</th>\n",
       "      <th>NumberOfTime60-89DaysPastDueNotWorse</th>\n",
       "      <th>NumberOfDependents</th>\n",
       "    </tr>\n",
       "  </thead>\n",
       "  <tbody>\n",
       "    <tr>\n",
       "      <th>41011</th>\n",
       "      <td>123722</td>\n",
       "      <td>0</td>\n",
       "      <td>0.311360</td>\n",
       "      <td>48</td>\n",
       "      <td>60644</td>\n",
       "      <td>0</td>\n",
       "      <td>0.382311</td>\n",
       "      <td>4872.0</td>\n",
       "      <td>11</td>\n",
       "      <td>0</td>\n",
       "      <td>2</td>\n",
       "      <td>0</td>\n",
       "      <td>3.0</td>\n",
       "    </tr>\n",
       "    <tr>\n",
       "      <th>41012</th>\n",
       "      <td>123729</td>\n",
       "      <td>0</td>\n",
       "      <td>0.038810</td>\n",
       "      <td>45</td>\n",
       "      <td>60644</td>\n",
       "      <td>0</td>\n",
       "      <td>0.156130</td>\n",
       "      <td>6500.0</td>\n",
       "      <td>13</td>\n",
       "      <td>0</td>\n",
       "      <td>1</td>\n",
       "      <td>0</td>\n",
       "      <td>3.0</td>\n",
       "    </tr>\n",
       "    <tr>\n",
       "      <th>41013</th>\n",
       "      <td>123730</td>\n",
       "      <td>0</td>\n",
       "      <td>0.007576</td>\n",
       "      <td>74</td>\n",
       "      <td>60644</td>\n",
       "      <td>0</td>\n",
       "      <td>14.000000</td>\n",
       "      <td>NaN</td>\n",
       "      <td>9</td>\n",
       "      <td>0</td>\n",
       "      <td>0</td>\n",
       "      <td>0</td>\n",
       "      <td>0.0</td>\n",
       "    </tr>\n",
       "    <tr>\n",
       "      <th>41014</th>\n",
       "      <td>123739</td>\n",
       "      <td>0</td>\n",
       "      <td>0.052153</td>\n",
       "      <td>72</td>\n",
       "      <td>60644</td>\n",
       "      <td>0</td>\n",
       "      <td>382.000000</td>\n",
       "      <td>NaN</td>\n",
       "      <td>8</td>\n",
       "      <td>0</td>\n",
       "      <td>0</td>\n",
       "      <td>0</td>\n",
       "      <td>0.0</td>\n",
       "    </tr>\n",
       "    <tr>\n",
       "      <th>41015</th>\n",
       "      <td>123753</td>\n",
       "      <td>0</td>\n",
       "      <td>1.368872</td>\n",
       "      <td>60</td>\n",
       "      <td>60644</td>\n",
       "      <td>0</td>\n",
       "      <td>0.039417</td>\n",
       "      <td>3500.0</td>\n",
       "      <td>5</td>\n",
       "      <td>3</td>\n",
       "      <td>0</td>\n",
       "      <td>1</td>\n",
       "      <td>0.0</td>\n",
       "    </tr>\n",
       "  </tbody>\n",
       "</table>\n",
       "</div>"
      ],
      "text/plain": [
       "       PersonID  SeriousDlqin2yrs  RevolvingUtilizationOfUnsecuredLines  age  \\\n",
       "41011    123722                 0                              0.311360   48   \n",
       "41012    123729                 0                              0.038810   45   \n",
       "41013    123730                 0                              0.007576   74   \n",
       "41014    123739                 0                              0.052153   72   \n",
       "41015    123753                 0                              1.368872   60   \n",
       "\n",
       "       zipcode  NumberOfTime30-59DaysPastDueNotWorse   DebtRatio  \\\n",
       "41011    60644                                     0    0.382311   \n",
       "41012    60644                                     0    0.156130   \n",
       "41013    60644                                     0   14.000000   \n",
       "41014    60644                                     0  382.000000   \n",
       "41015    60644                                     0    0.039417   \n",
       "\n",
       "       MonthlyIncome  NumberOfOpenCreditLinesAndLoans  \\\n",
       "41011         4872.0                               11   \n",
       "41012         6500.0                               13   \n",
       "41013            NaN                                9   \n",
       "41014            NaN                                8   \n",
       "41015         3500.0                                5   \n",
       "\n",
       "       NumberOfTimes90DaysLate  NumberRealEstateLoansOrLines  \\\n",
       "41011                        0                             2   \n",
       "41012                        0                             1   \n",
       "41013                        0                             0   \n",
       "41014                        0                             0   \n",
       "41015                        3                             0   \n",
       "\n",
       "       NumberOfTime60-89DaysPastDueNotWorse  NumberOfDependents  \n",
       "41011                                     0                 3.0  \n",
       "41012                                     0                 3.0  \n",
       "41013                                     0                 0.0  \n",
       "41014                                     0                 0.0  \n",
       "41015                                     1                 0.0  "
      ]
     },
     "execution_count": 3,
     "metadata": {},
     "output_type": "execute_result"
    }
   ],
   "source": [
    "neighbors = Neighbors()\n",
    "data = neighbors.ingest(csv)\n",
    "\n",
    "data.tail()"
   ]
  },
  {
   "cell_type": "markdown",
   "metadata": {},
   "source": [
    "# Discretization and Creation of Dummies\n",
    "In the next phase of the pipeline, we begin to set up the hypothesis that debt ratio (\"Debt Ratio\" in the data) is the best indicator of Financial Distress (\"SeriousDlqin2yrs\").\n",
    "\n",
    "Below, we discretize debt ratio data into four buckets, then create dummy variables for each of the buckets in the new column, \"DebtClassification\"."
   ]
  },
  {
   "cell_type": "code",
   "execution_count": 4,
   "metadata": {},
   "outputs": [],
   "source": [
    "data =  neighbors.preprocess(data)\n",
    "data['DebtClassification'] = neighbors.discretize(data, \"DebtRatio\", labels=['High Debt', 'Above Average Debt', 'Below Average Debt', 'Low Debt'])\n",
    "data = neighbors.dummify(data, 'DebtClassification')"
   ]
  },
  {
   "cell_type": "markdown",
   "metadata": {},
   "source": [
    "# Classification and Prediction\n",
    "Given the four buckets of debt ratio we created above, let's test a K-Nearest-Neighbors model with 10 neighbors, using only the debt classifications from above as our features in the below model."
   ]
  },
  {
   "cell_type": "code",
   "execution_count": 5,
   "metadata": {},
   "outputs": [],
   "source": [
    "features = ['High Debt', 'Above Average Debt', 'Below Average Debt', 'Low Debt']\n",
    "target = 'SeriousDlqin2yrs'\n",
    "kwargs = {\"n_neighbors\": 10}\n",
    "classifier, test_features, test_target = neighbors.classify(data, features, target, **kwargs)\n",
    "prediction = neighbors.predict(classifier, test_features)"
   ]
  },
  {
   "cell_type": "markdown",
   "metadata": {},
   "source": [
    "# Evaluation\n",
    "Finally, let's evaluate how our model performs against the test data we split above"
   ]
  },
  {
   "cell_type": "code",
   "execution_count": 7,
   "metadata": {},
   "outputs": [
    {
     "name": "stdout",
     "output_type": "stream",
     "text": [
      "Accuracy score for 10 neighbors: 0.8391028766455387\n"
     ]
    }
   ],
   "source": [
    "evaluation = neighbors.evaluate_classifier(prediction, test_target)\n",
    "print(\"Accuracy score for {} neighbors: {}\".format(10, evaluation))"
   ]
  },
  {
   "cell_type": "markdown",
   "metadata": {},
   "source": [
    "# Results and Conclusion\n",
    "This simple model appears to have shown 83.9% accuracy on our test data. It appears through this simple model that debt ratio is a good predictor of future financial stress. \n",
    "\n",
    "## Future Work\n",
    "* Cross-validation to find the best number of neighbors for the model\n",
    "* Implementation of other models to test against KNN\n",
    "* Use of other combinations of features to test against the current model"
   ]
  }
 ],
 "metadata": {
  "kernelspec": {
   "display_name": "Python 3",
   "language": "python",
   "name": "python3"
  },
  "language_info": {
   "codemirror_mode": {
    "name": "ipython",
    "version": 3
   },
   "file_extension": ".py",
   "mimetype": "text/x-python",
   "name": "python",
   "nbconvert_exporter": "python",
   "pygments_lexer": "ipython3",
   "version": "3.6.3"
  }
 },
 "nbformat": 4,
 "nbformat_minor": 2
}
