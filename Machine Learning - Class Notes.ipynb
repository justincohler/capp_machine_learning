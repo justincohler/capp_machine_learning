{
 "cells": [
  {
   "cell_type": "code",
   "execution_count": 4,
   "metadata": {
    "collapsed": true
   },
   "outputs": [],
   "source": [
    "import pandas as pd\n",
    "import numpy as np\n",
    "import sklearn as sk\n",
    "import matplotlib.pyplot as plt\n",
    "from IPython.display import Latex\n"
   ]
  },
  {
   "cell_type": "markdown",
   "metadata": {},
   "source": [
    "# Methods"
   ]
  },
  {
   "cell_type": "markdown",
   "metadata": {},
   "source": [
    "## SVMs\n",
    "4/12/2018\n",
    "\n",
    "The goal is to separate two hyperplanes by the maximum possible distance:\n",
    "       $w^t(x_1-x_2) = 2 = \\rho$\n",
    "       \n",
    "\n",
    "Minimize:\n",
    "        $min(||w||/\\rho)$\n",
    "        \n",
    "Now the whole problem is how to maximize $||w||^2$.\n",
    "\n",
    "This comes down to *Lagrange Multipliers* - solving quadratic optimization problems with linear constraints. Details: http://www.engr.mun.ca/~baxter/Publications/LagrangeForSVMs.pdf\n",
    "\n",
    "* Given two points, what is the output? With SVM, we can provide the function (e.g. given X, return X^2)\n",
    "* This is much easier than logit models, which has to evaluate every point, rather than a subset. \n",
    "* We call this function the \"kernel\" method of the SVM model\n",
    "\n",
    "### Using SVMs:\n",
    "* Kernel: Linear, Polynomial, Radial Basis Functions (RBF)\n",
    "    * Use Linear most of the time, esp with high dimensions\n",
    "* Other Parameters:\n",
    "    * C - a penalty for errors"
   ]
  },
  {
   "cell_type": "markdown",
   "metadata": {},
   "source": [
    "# Validation\n",
    "\n",
    "We need to validate the following:\n",
    "* Methodology\n",
    "* Metrics\n",
    "* Comparing to Baselines\n",
    "\n",
    "## N-fold Cross-Validation\n",
    "- Take your data and split into n buckets. Take 1 of the n to test on, n-1 to train on, and repeat for every combination of the cross-sections of your training data.\n",
    "\n",
    "## Temporal Holdouts\n"
   ]
  },
  {
   "cell_type": "markdown",
   "metadata": {},
   "source": [
    "# SKLearn Stuff\n",
    "NEVER USE .predict()\n",
    "* predict uses 0.5 as a threshold and makes a 1/0 decision based on that data. .predict_proba() creates actual probabilities."
   ]
  }
 ],
 "metadata": {
  "kernelspec": {
   "display_name": "Python 3",
   "language": "python",
   "name": "python3"
  },
  "language_info": {
   "codemirror_mode": {
    "name": "ipython",
    "version": 3
   },
   "file_extension": ".py",
   "mimetype": "text/x-python",
   "name": "python",
   "nbconvert_exporter": "python",
   "pygments_lexer": "ipython3",
   "version": "3.6.3"
  }
 },
 "nbformat": 4,
 "nbformat_minor": 2
}
