{
 "cells": [
  {
   "cell_type": "code",
   "execution_count": 1,
   "metadata": {},
   "outputs": [],
   "source": [
    "import pandas as pd\n",
    "import math\n",
    "import numpy as np\n",
    "import matplotlib.pyplot as plt\n",
    "from IPython.display import display, HTML, Image\n",
    "import pygal\n",
    "from functools import reduce\n",
    "import collections\n",
    "from datetime import datetime, timedelta\n",
    "from hw1 import retrieveData, retrieve2017Data, groupByType, dfByType, galplot"
   ]
  },
  {
   "cell_type": "markdown",
   "metadata": {},
   "source": [
    "## Problem 1: Data Acquisition and Analysis\n",
    "### 1.1 First thing's first: Import all three CSVs"
   ]
  },
  {
   "cell_type": "code",
   "execution_count": 2,
   "metadata": {},
   "outputs": [],
   "source": [
    "(alley, graffiti, building) = retrieve2017Data()\n",
    "assert(not alley.empty)\n",
    "assert(not graffiti.empty)\n",
    "assert(not building.empty)"
   ]
  },
  {
   "cell_type": "markdown",
   "metadata": {},
   "source": [
    "### Sub-types\n",
    "Let's select a couple of columns in each set to use for our sub-type analysis, then group by those columns for summarization:"
   ]
  },
  {
   "cell_type": "code",
   "execution_count": 3,
   "metadata": {},
   "outputs": [
    {
     "data": {
      "text/plain": [
       "[{'label': 'Boarded', 'value': 688}, {'label': 'Open', 'value': 3140}]"
      ]
     },
     "execution_count": 3,
     "metadata": {},
     "output_type": "execute_result"
    }
   ],
   "source": [
    "building_type = \"IS BUILDING OPEN OR BOARDED?\"\n",
    "building_subtypes = groupByType(building, building_type)\n",
    "    \n",
    "building_subtypes"
   ]
  },
  {
   "cell_type": "code",
   "execution_count": 4,
   "metadata": {},
   "outputs": [
    {
     "data": {
      "text/plain": [
       "[{'label': 'Completed', 'value': 14014},\n",
       " {'label': 'Completed - Dup', 'value': 13635},\n",
       " {'label': 'Open', 'value': 4339},\n",
       " {'label': 'Open - Dup', 'value': 2993}]"
      ]
     },
     "execution_count": 4,
     "metadata": {},
     "output_type": "execute_result"
    }
   ],
   "source": [
    "alley_type = \"Status\"\n",
    "alley_subtypes = groupByType(alley, alley_type)\n",
    "\n",
    "alley_subtypes"
   ]
  },
  {
   "cell_type": "code",
   "execution_count": 5,
   "metadata": {},
   "outputs": [
    {
     "data": {
      "text/plain": [
       "[{'label': 'Aluminum Siding', 'value': 3544},\n",
       " {'label': 'Asphalt', 'value': 116},\n",
       " {'label': 'Brick - Painted', 'value': 17994},\n",
       " {'label': 'Brick - Unpainted', 'value': 24359},\n",
       " {'label': 'Cement (Sidewalk, Alley, Wall, Curb)', 'value': 12224},\n",
       " {'label': 'Glass', 'value': 3371},\n",
       " {'label': 'Limestone', 'value': 499},\n",
       " {'label': 'Marble/Granite', 'value': 200},\n",
       " {'label': 'Metal - Painted', 'value': 54378},\n",
       " {'label': 'Metal - Unpainted', 'value': 12096},\n",
       " {'label': 'Other / Unknown Surface', 'value': 2400},\n",
       " {'label': 'Other/Unknown Surface', 'value': 2636},\n",
       " {'label': 'Stucco', 'value': 312},\n",
       " {'label': 'Tree', 'value': 167},\n",
       " {'label': 'Vinyl Siding', 'value': 1714},\n",
       " {'label': 'Wood - Painted', 'value': 5596},\n",
       " {'label': 'Wood - Unpainted', 'value': 1971}]"
      ]
     },
     "execution_count": 5,
     "metadata": {},
     "output_type": "execute_result"
    }
   ],
   "source": [
    "graffiti_type = \"What Type of Surface is the Graffiti on?\"\n",
    "graffiti_subtypes = groupByType(graffiti, graffiti_type)\n",
    "\n",
    "graffiti_subtypes"
   ]
  },
  {
   "cell_type": "markdown",
   "metadata": {},
   "source": [
    "### 1.2\n",
    "Now, let's simply see what the biggest source of calls are, and visualize this data at a very basic level:\n",
    "Questions: \n",
    "- What is the breakdown of 311 call types among Building Calls, Alley Light Outage Calls, and Graffiti Removal calls? (Nested pie chart)\n",
    "- In which wards are calls of each type most prevalent? (Stacked bar chart)\n",
    "- Are calls for a given type of 311 call increasing over time? Decreasing over time? (Summary table)\n",
    "- How long did each of these calls take to be resolved for each of these cases in 2017? (Stacked bar chart)\n",
    "\n",
    "Please see below for the output answers to each of these questions"
   ]
  },
  {
   "cell_type": "code",
   "execution_count": 6,
   "metadata": {},
   "outputs": [
    {
     "data": {
      "text/html": [
       "\n",
       "        <!DOCTYPE html>\n",
       "        <html>\n",
       "          <head>\n",
       "          <script type=\"text/javascript\" src=\"http://kozea.github.com/pygal.js/javascripts/svg.jquery.js\"></script>\n",
       "          <script type=\"text/javascript\" src=\"https://kozea.github.io/pygal.js/2.0.x/pygal-tooltips.min.js\"\"></script>\n",
       "          </head>\n",
       "          <body>\n",
       "            <figure>\n",
       "              <?xml version='1.0' encoding='utf-8'?>\n",
       "<svg xmlns:xlink=\"http://www.w3.org/1999/xlink\" xmlns=\"http://www.w3.org/2000/svg\" id=\"chart-e0904d86-08d6-45a2-9fc7-3efd01e8de52\" class=\"pygal-chart\" viewBox=\"0 0 800 600\"><!--Generated with pygal 2.4.0 (lxml) ©Kozea 2012-2016 on 2018-04-03--><!--http://pygal.org--><!--http://github.com/Kozea/pygal--><defs><style type=\"text/css\">#chart-e0904d86-08d6-45a2-9fc7-3efd01e8de52{-webkit-user-select:none;-webkit-font-smoothing:antialiased;font-family:Consolas,\"Liberation Mono\",Menlo,Courier,monospace}#chart-e0904d86-08d6-45a2-9fc7-3efd01e8de52 .title{font-family:Consolas,\"Liberation Mono\",Menlo,Courier,monospace;font-size:16px}#chart-e0904d86-08d6-45a2-9fc7-3efd01e8de52 .legends .legend text{font-family:Consolas,\"Liberation Mono\",Menlo,Courier,monospace;font-size:14px}#chart-e0904d86-08d6-45a2-9fc7-3efd01e8de52 .axis text{font-family:Consolas,\"Liberation Mono\",Menlo,Courier,monospace;font-size:10px}#chart-e0904d86-08d6-45a2-9fc7-3efd01e8de52 .axis text.major{font-family:Consolas,\"Liberation Mono\",Menlo,Courier,monospace;font-size:10px}#chart-e0904d86-08d6-45a2-9fc7-3efd01e8de52 .text-overlay text.value{font-family:Consolas,\"Liberation Mono\",Menlo,Courier,monospace;font-size:16px}#chart-e0904d86-08d6-45a2-9fc7-3efd01e8de52 .text-overlay text.label{font-family:Consolas,\"Liberation Mono\",Menlo,Courier,monospace;font-size:10px}#chart-e0904d86-08d6-45a2-9fc7-3efd01e8de52 .tooltip{font-family:Consolas,\"Liberation Mono\",Menlo,Courier,monospace;font-size:14px}#chart-e0904d86-08d6-45a2-9fc7-3efd01e8de52 text.no_data{font-family:Consolas,\"Liberation Mono\",Menlo,Courier,monospace;font-size:64px}\n",
       "#chart-e0904d86-08d6-45a2-9fc7-3efd01e8de52{background-color:rgba(249,249,249,1)}#chart-e0904d86-08d6-45a2-9fc7-3efd01e8de52 path,#chart-e0904d86-08d6-45a2-9fc7-3efd01e8de52 line,#chart-e0904d86-08d6-45a2-9fc7-3efd01e8de52 rect,#chart-e0904d86-08d6-45a2-9fc7-3efd01e8de52 circle{-webkit-transition:150ms;-moz-transition:150ms;transition:150ms}#chart-e0904d86-08d6-45a2-9fc7-3efd01e8de52 .graph &gt; .background{fill:rgba(249,249,249,1)}#chart-e0904d86-08d6-45a2-9fc7-3efd01e8de52 .plot &gt; .background{fill:rgba(255,255,255,1)}#chart-e0904d86-08d6-45a2-9fc7-3efd01e8de52 .graph{fill:rgba(0,0,0,.87)}#chart-e0904d86-08d6-45a2-9fc7-3efd01e8de52 text.no_data{fill:rgba(0,0,0,1)}#chart-e0904d86-08d6-45a2-9fc7-3efd01e8de52 .title{fill:rgba(0,0,0,1)}#chart-e0904d86-08d6-45a2-9fc7-3efd01e8de52 .legends .legend text{fill:rgba(0,0,0,.87)}#chart-e0904d86-08d6-45a2-9fc7-3efd01e8de52 .legends .legend:hover text{fill:rgba(0,0,0,1)}#chart-e0904d86-08d6-45a2-9fc7-3efd01e8de52 .axis .line{stroke:rgba(0,0,0,1)}#chart-e0904d86-08d6-45a2-9fc7-3efd01e8de52 .axis .guide.line{stroke:rgba(0,0,0,.54)}#chart-e0904d86-08d6-45a2-9fc7-3efd01e8de52 .axis .major.line{stroke:rgba(0,0,0,.87)}#chart-e0904d86-08d6-45a2-9fc7-3efd01e8de52 .axis text.major{fill:rgba(0,0,0,1)}#chart-e0904d86-08d6-45a2-9fc7-3efd01e8de52 .axis.y .guides:hover .guide.line,#chart-e0904d86-08d6-45a2-9fc7-3efd01e8de52 .line-graph .axis.x .guides:hover .guide.line,#chart-e0904d86-08d6-45a2-9fc7-3efd01e8de52 .stackedline-graph .axis.x .guides:hover .guide.line,#chart-e0904d86-08d6-45a2-9fc7-3efd01e8de52 .xy-graph .axis.x .guides:hover .guide.line{stroke:rgba(0,0,0,1)}#chart-e0904d86-08d6-45a2-9fc7-3efd01e8de52 .axis .guides:hover text{fill:rgba(0,0,0,1)}#chart-e0904d86-08d6-45a2-9fc7-3efd01e8de52 .reactive{fill-opacity:.7;stroke-opacity:.8}#chart-e0904d86-08d6-45a2-9fc7-3efd01e8de52 .ci{stroke:rgba(0,0,0,.87)}#chart-e0904d86-08d6-45a2-9fc7-3efd01e8de52 .reactive.active,#chart-e0904d86-08d6-45a2-9fc7-3efd01e8de52 .active .reactive{fill-opacity:.8;stroke-opacity:.9;stroke-width:4}#chart-e0904d86-08d6-45a2-9fc7-3efd01e8de52 .ci .reactive.active{stroke-width:1.5}#chart-e0904d86-08d6-45a2-9fc7-3efd01e8de52 .series text{fill:rgba(0,0,0,1)}#chart-e0904d86-08d6-45a2-9fc7-3efd01e8de52 .tooltip rect{fill:rgba(255,255,255,1);stroke:rgba(0,0,0,1);-webkit-transition:opacity 150ms;-moz-transition:opacity 150ms;transition:opacity 150ms}#chart-e0904d86-08d6-45a2-9fc7-3efd01e8de52 .tooltip .label{fill:rgba(0,0,0,.87)}#chart-e0904d86-08d6-45a2-9fc7-3efd01e8de52 .tooltip .label{fill:rgba(0,0,0,.87)}#chart-e0904d86-08d6-45a2-9fc7-3efd01e8de52 .tooltip .legend{font-size:.8em;fill:rgba(0,0,0,.54)}#chart-e0904d86-08d6-45a2-9fc7-3efd01e8de52 .tooltip .x_label{font-size:.6em;fill:rgba(0,0,0,1)}#chart-e0904d86-08d6-45a2-9fc7-3efd01e8de52 .tooltip .xlink{font-size:.5em;text-decoration:underline}#chart-e0904d86-08d6-45a2-9fc7-3efd01e8de52 .tooltip .value{font-size:1.5em}#chart-e0904d86-08d6-45a2-9fc7-3efd01e8de52 .bound{font-size:.5em}#chart-e0904d86-08d6-45a2-9fc7-3efd01e8de52 .max-value{font-size:.75em;fill:rgba(0,0,0,.54)}#chart-e0904d86-08d6-45a2-9fc7-3efd01e8de52 .map-element{fill:rgba(255,255,255,1);stroke:rgba(0,0,0,.54) !important}#chart-e0904d86-08d6-45a2-9fc7-3efd01e8de52 .map-element .reactive{fill-opacity:inherit;stroke-opacity:inherit}#chart-e0904d86-08d6-45a2-9fc7-3efd01e8de52 .color-0,#chart-e0904d86-08d6-45a2-9fc7-3efd01e8de52 .color-0 a:visited{stroke:#F44336;fill:#F44336}#chart-e0904d86-08d6-45a2-9fc7-3efd01e8de52 .color-1,#chart-e0904d86-08d6-45a2-9fc7-3efd01e8de52 .color-1 a:visited{stroke:#3F51B5;fill:#3F51B5}#chart-e0904d86-08d6-45a2-9fc7-3efd01e8de52 .color-2,#chart-e0904d86-08d6-45a2-9fc7-3efd01e8de52 .color-2 a:visited{stroke:#009688;fill:#009688}#chart-e0904d86-08d6-45a2-9fc7-3efd01e8de52 .text-overlay .color-0 text{fill:black}#chart-e0904d86-08d6-45a2-9fc7-3efd01e8de52 .text-overlay .color-1 text{fill:black}#chart-e0904d86-08d6-45a2-9fc7-3efd01e8de52 .text-overlay .color-2 text{fill:black}\n",
       "#chart-e0904d86-08d6-45a2-9fc7-3efd01e8de52 text.no_data{text-anchor:middle}#chart-e0904d86-08d6-45a2-9fc7-3efd01e8de52 .guide.line{fill:none}#chart-e0904d86-08d6-45a2-9fc7-3efd01e8de52 .centered{text-anchor:middle}#chart-e0904d86-08d6-45a2-9fc7-3efd01e8de52 .title{text-anchor:middle}#chart-e0904d86-08d6-45a2-9fc7-3efd01e8de52 .legends .legend text{fill-opacity:1}#chart-e0904d86-08d6-45a2-9fc7-3efd01e8de52 .axis.x text{text-anchor:middle}#chart-e0904d86-08d6-45a2-9fc7-3efd01e8de52 .axis.x:not(.web) text[transform]{text-anchor:start}#chart-e0904d86-08d6-45a2-9fc7-3efd01e8de52 .axis.x:not(.web) text[transform].backwards{text-anchor:end}#chart-e0904d86-08d6-45a2-9fc7-3efd01e8de52 .axis.y text{text-anchor:end}#chart-e0904d86-08d6-45a2-9fc7-3efd01e8de52 .axis.y text[transform].backwards{text-anchor:start}#chart-e0904d86-08d6-45a2-9fc7-3efd01e8de52 .axis.y2 text{text-anchor:start}#chart-e0904d86-08d6-45a2-9fc7-3efd01e8de52 .axis.y2 text[transform].backwards{text-anchor:end}#chart-e0904d86-08d6-45a2-9fc7-3efd01e8de52 .axis .guide.line{stroke-dasharray:4,4}#chart-e0904d86-08d6-45a2-9fc7-3efd01e8de52 .axis .major.guide.line{stroke-dasharray:6,6}#chart-e0904d86-08d6-45a2-9fc7-3efd01e8de52 .horizontal .axis.y .guide.line,#chart-e0904d86-08d6-45a2-9fc7-3efd01e8de52 .horizontal .axis.y2 .guide.line,#chart-e0904d86-08d6-45a2-9fc7-3efd01e8de52 .vertical .axis.x .guide.line{opacity:0}#chart-e0904d86-08d6-45a2-9fc7-3efd01e8de52 .horizontal .axis.always_show .guide.line,#chart-e0904d86-08d6-45a2-9fc7-3efd01e8de52 .vertical .axis.always_show .guide.line{opacity:1 !important}#chart-e0904d86-08d6-45a2-9fc7-3efd01e8de52 .axis.y .guides:hover .guide.line,#chart-e0904d86-08d6-45a2-9fc7-3efd01e8de52 .axis.y2 .guides:hover .guide.line,#chart-e0904d86-08d6-45a2-9fc7-3efd01e8de52 .axis.x .guides:hover .guide.line{opacity:1}#chart-e0904d86-08d6-45a2-9fc7-3efd01e8de52 .axis .guides:hover text{opacity:1}#chart-e0904d86-08d6-45a2-9fc7-3efd01e8de52 .nofill{fill:none}#chart-e0904d86-08d6-45a2-9fc7-3efd01e8de52 .subtle-fill{fill-opacity:.2}#chart-e0904d86-08d6-45a2-9fc7-3efd01e8de52 .dot{stroke-width:1px;fill-opacity:1}#chart-e0904d86-08d6-45a2-9fc7-3efd01e8de52 .dot.active{stroke-width:5px}#chart-e0904d86-08d6-45a2-9fc7-3efd01e8de52 .dot.negative{fill:transparent}#chart-e0904d86-08d6-45a2-9fc7-3efd01e8de52 text,#chart-e0904d86-08d6-45a2-9fc7-3efd01e8de52 tspan{stroke:none !important}#chart-e0904d86-08d6-45a2-9fc7-3efd01e8de52 .series text.active{opacity:1}#chart-e0904d86-08d6-45a2-9fc7-3efd01e8de52 .tooltip rect{fill-opacity:.95;stroke-width:.5}#chart-e0904d86-08d6-45a2-9fc7-3efd01e8de52 .tooltip text{fill-opacity:1}#chart-e0904d86-08d6-45a2-9fc7-3efd01e8de52 .showable{visibility:hidden}#chart-e0904d86-08d6-45a2-9fc7-3efd01e8de52 .showable.shown{visibility:visible}#chart-e0904d86-08d6-45a2-9fc7-3efd01e8de52 .gauge-background{fill:rgba(229,229,229,1);stroke:none}#chart-e0904d86-08d6-45a2-9fc7-3efd01e8de52 .bg-lines{stroke:rgba(249,249,249,1);stroke-width:2px}</style><script type=\"text/javascript\">window.pygal = window.pygal || {};window.pygal.config = window.pygal.config || {};window.pygal.config['e0904d86-08d6-45a2-9fc7-3efd01e8de52'] = {\"allow_interruptions\": false, \"box_mode\": \"extremes\", \"classes\": [\"pygal-chart\"], \"css\": [\"file://style.css\", \"file://graph.css\"], \"defs\": [], \"disable_xml_declaration\": false, \"dots_size\": 2.5, \"dynamic_print_values\": false, \"explicit_size\": false, \"fill\": false, \"force_uri_protocol\": \"https\", \"formatter\": null, \"half_pie\": false, \"height\": 600, \"include_x_axis\": false, \"inner_radius\": 0, \"interpolate\": null, \"interpolation_parameters\": {}, \"interpolation_precision\": 250, \"inverse_y_axis\": false, \"js\": [\"//kozea.github.io/pygal.js/2.0.x/pygal-tooltips.min.js\"], \"legend_at_bottom\": false, \"legend_at_bottom_columns\": null, \"legend_box_size\": 12, \"logarithmic\": false, \"margin\": 20, \"margin_bottom\": null, \"margin_left\": null, \"margin_right\": null, \"margin_top\": null, \"max_scale\": 16, \"min_scale\": 4, \"missing_value_fill_truncation\": \"x\", \"no_data_text\": \"No data\", \"no_prefix\": false, \"order_min\": null, \"pretty_print\": false, \"print_labels\": false, \"print_values\": false, \"print_values_position\": \"center\", \"print_zeroes\": true, \"range\": null, \"rounded_bars\": null, \"secondary_range\": null, \"show_dots\": true, \"show_legend\": true, \"show_minor_x_labels\": true, \"show_minor_y_labels\": true, \"show_only_major_dots\": false, \"show_x_guides\": false, \"show_x_labels\": true, \"show_y_guides\": true, \"show_y_labels\": true, \"spacing\": 10, \"stack_from_top\": false, \"strict\": false, \"stroke\": true, \"stroke_style\": null, \"style\": {\"background\": \"rgba(249, 249, 249, 1)\", \"ci_colors\": [], \"colors\": [\"#F44336\", \"#3F51B5\", \"#009688\", \"#FFC107\", \"#FF5722\", \"#9C27B0\", \"#03A9F4\", \"#8BC34A\", \"#FF9800\", \"#E91E63\", \"#2196F3\", \"#4CAF50\", \"#FFEB3B\", \"#673AB7\", \"#00BCD4\", \"#CDDC39\", \"#9E9E9E\", \"#607D8B\"], \"font_family\": \"Consolas, \\\"Liberation Mono\\\", Menlo, Courier, monospace\", \"foreground\": \"rgba(0, 0, 0, .87)\", \"foreground_strong\": \"rgba(0, 0, 0, 1)\", \"foreground_subtle\": \"rgba(0, 0, 0, .54)\", \"guide_stroke_dasharray\": \"4,4\", \"label_font_family\": \"Consolas, \\\"Liberation Mono\\\", Menlo, Courier, monospace\", \"label_font_size\": 10, \"legend_font_family\": \"Consolas, \\\"Liberation Mono\\\", Menlo, Courier, monospace\", \"legend_font_size\": 14, \"major_guide_stroke_dasharray\": \"6,6\", \"major_label_font_family\": \"Consolas, \\\"Liberation Mono\\\", Menlo, Courier, monospace\", \"major_label_font_size\": 10, \"no_data_font_family\": \"Consolas, \\\"Liberation Mono\\\", Menlo, Courier, monospace\", \"no_data_font_size\": 64, \"opacity\": \".7\", \"opacity_hover\": \".8\", \"plot_background\": \"rgba(255, 255, 255, 1)\", \"stroke_opacity\": \".8\", \"stroke_opacity_hover\": \".9\", \"title_font_family\": \"Consolas, \\\"Liberation Mono\\\", Menlo, Courier, monospace\", \"title_font_size\": 16, \"tooltip_font_family\": \"Consolas, \\\"Liberation Mono\\\", Menlo, Courier, monospace\", \"tooltip_font_size\": 14, \"transition\": \"150ms\", \"value_background\": \"rgba(229, 229, 229, 1)\", \"value_colors\": [], \"value_font_family\": \"Consolas, \\\"Liberation Mono\\\", Menlo, Courier, monospace\", \"value_font_size\": 16, \"value_label_font_family\": \"Consolas, \\\"Liberation Mono\\\", Menlo, Courier, monospace\", \"value_label_font_size\": 10}, \"title\": \"311 Call Types\", \"tooltip_border_radius\": 0, \"tooltip_fancy_mode\": true, \"truncate_label\": null, \"truncate_legend\": null, \"width\": 800, \"x_label_rotation\": 0, \"x_labels\": null, \"x_labels_major\": null, \"x_labels_major_count\": null, \"x_labels_major_every\": null, \"x_title\": null, \"xrange\": null, \"y_label_rotation\": 0, \"y_labels\": null, \"y_labels_major\": null, \"y_labels_major_count\": null, \"y_labels_major_every\": null, \"y_title\": null, \"zero\": 0, \"legends\": [\"Building Calls\", \"Alley Light Calls\", \"Graffiti Removal Calls\"]}</script><script type=\"text/javascript\" xlink:href=\"https://kozea.github.io/pygal.js/2.0.x/pygal-tooltips.min.js\"/></defs><title>311 Call Types</title><g class=\"graph pie-graph vertical\"><rect class=\"background\" height=\"600\" width=\"800\" x=\"0\" y=\"0\"/><g class=\"plot\" transform=\"translate(168, 46)\"><rect class=\"background\" height=\"534\" width=\"612.0\" x=\"0\" y=\"0\"/><g class=\"series serie-0 color-0\"><g class=\"slices\"><g class=\"slice\"><desc class=\"label\">Boarded</desc><path class=\"slice reactive tooltip-trigger\" d=\"M306.000000 0.000000 A267.000000 267.000000 0 0 1 312.327722 0.074992 L311.694950 26.767493 A240.300000 240.300000 0 0 0 306.000000 26.700000 z\"/><desc class=\"value\">688</desc><desc class=\"x centered\">309.00587913191157</desc><desc class=\"y centered\">13.367811209530544</desc></g><g class=\"slice\"><desc class=\"label\">Open</desc><path class=\"slice reactive tooltip-trigger\" d=\"M312.327722 0.074992 A267.000000 267.000000 0 0 1 341.108481 2.318315 L337.597633 28.786483 A240.300000 240.300000 0 0 0 311.694950 26.767493 z\"/><desc class=\"value\">3140</desc><desc class=\"x centered\">325.71102015846253</desc><desc class=\"y centered\">14.117026701454876</desc></g><g class=\"slice\"><desc class=\"value\">0</desc><desc class=\"x centered\">339.35305685661547</desc><desc class=\"y centered\">15.552398901243492</desc></g><g class=\"slice\"><desc class=\"value\">0</desc><desc class=\"x centered\">339.35305685661547</desc><desc class=\"y centered\">15.552398901243492</desc></g><g class=\"slice\"><desc class=\"value\">0</desc><desc class=\"x centered\">339.35305685661547</desc><desc class=\"y centered\">15.552398901243492</desc></g><g class=\"slice\"><desc class=\"value\">0</desc><desc class=\"x centered\">339.35305685661547</desc><desc class=\"y centered\">15.552398901243492</desc></g><g class=\"slice\"><desc class=\"value\">0</desc><desc class=\"x centered\">339.35305685661547</desc><desc class=\"y centered\">15.552398901243492</desc></g><g class=\"slice\"><desc class=\"value\">0</desc><desc class=\"x centered\">339.35305685661547</desc><desc class=\"y centered\">15.552398901243492</desc></g><g class=\"slice\"><desc class=\"value\">0</desc><desc class=\"x centered\">339.35305685661547</desc><desc class=\"y centered\">15.552398901243492</desc></g><g class=\"slice\"><desc class=\"value\">0</desc><desc class=\"x centered\">339.35305685661547</desc><desc class=\"y centered\">15.552398901243492</desc></g><g class=\"slice\"><desc class=\"value\">0</desc><desc class=\"x centered\">339.35305685661547</desc><desc class=\"y centered\">15.552398901243492</desc></g><g class=\"slice\"><desc class=\"value\">0</desc><desc class=\"x centered\">339.35305685661547</desc><desc class=\"y centered\">15.552398901243492</desc></g><g class=\"slice\"><desc class=\"value\">0</desc><desc class=\"x centered\">339.35305685661547</desc><desc class=\"y centered\">15.552398901243492</desc></g><g class=\"slice\"><desc class=\"value\">0</desc><desc class=\"x centered\">339.35305685661547</desc><desc class=\"y centered\">15.552398901243492</desc></g><g class=\"slice\"><desc class=\"value\">0</desc><desc class=\"x centered\">339.35305685661547</desc><desc class=\"y centered\">15.552398901243492</desc></g><g class=\"slice\"><desc class=\"value\">0</desc><desc class=\"x centered\">339.35305685661547</desc><desc class=\"y centered\">15.552398901243492</desc></g><g class=\"slice\"><desc class=\"value\">0</desc><desc class=\"x centered\">339.35305685661547</desc><desc class=\"y centered\">15.552398901243492</desc></g><g class=\"big_slice\"><path class=\"slice reactive tooltip-trigger\" d=\"M306.000000 26.700000 A240.300000 240.300000 0 0 1 337.597633 28.786483 L306.000000 267.000000 A0.000000 0.000000 0 0 0 306.000000 267.000000 z\"/><desc class=\"value\">3828</desc><desc class=\"x centered\">313.91661153567816</desc><desc class=\"y centered\">147.1110940837595</desc></g></g></g><g class=\"series serie-1 color-1\"><g class=\"slices\"><g class=\"slice\"><desc class=\"label\">Completed</desc><path class=\"slice reactive tooltip-trigger\" d=\"M341.108481 2.318315 A267.000000 267.000000 0 0 1 459.972829 48.868462 L444.575546 70.681616 A240.300000 240.300000 0 0 0 337.597633 28.786483 z\"/><desc class=\"value\">14014</desc><desc class=\"x centered\">398.4953902771265</desc><desc class=\"y centered\">30.815908077021277</desc></g><g class=\"slice\"><desc class=\"label\">Completed - Dup</desc><path class=\"slice reactive tooltip-trigger\" d=\"M459.972829 48.868462 A267.000000 267.000000 0 0 1 542.031737 142.188066 L518.428564 154.669259 A240.300000 240.300000 0 0 0 444.575546 70.681616 z\"/><desc class=\"value\">13635</desc><desc class=\"x centered\">496.4815802073941</desc><desc class=\"y centered\">99.50346241878876</desc></g><g class=\"slice\"><desc class=\"label\">Open</desc><path class=\"slice reactive tooltip-trigger\" d=\"M542.031737 142.188066 A267.000000 267.000000 0 0 1 557.986998 178.730226 L532.788298 187.557204 A240.300000 240.300000 0 0 0 518.428564 154.669259 z\"/><desc class=\"value\">4339</desc><desc class=\"x centered\">538.4578444711183</desc><desc class=\"y centered\">165.50284218835782</desc></g><g class=\"slice\"><desc class=\"label\">Open - Dup</desc><path class=\"slice reactive tooltip-trigger\" d=\"M557.986998 178.730226 A267.000000 267.000000 0 0 1 565.733956 205.135051 L539.760561 211.321546 A240.300000 240.300000 0 0 0 532.788298 187.557204 z\"/><desc class=\"value\">2993</desc><desc class=\"x centered\">549.3908295416196</desc><desc class=\"y centered\">195.5911308376735</desc></g><g class=\"slice\"><desc class=\"value\">0</desc><desc class=\"x centered\">552.7472585914916</desc><desc class=\"y centered\">208.22829866693016</desc></g><g class=\"slice\"><desc class=\"value\">0</desc><desc class=\"x centered\">552.7472585914916</desc><desc class=\"y centered\">208.22829866693016</desc></g><g class=\"slice\"><desc class=\"value\">0</desc><desc class=\"x centered\">552.7472585914916</desc><desc class=\"y centered\">208.22829866693016</desc></g><g class=\"slice\"><desc class=\"value\">0</desc><desc class=\"x centered\">552.7472585914916</desc><desc class=\"y centered\">208.22829866693016</desc></g><g class=\"slice\"><desc class=\"value\">0</desc><desc class=\"x centered\">552.7472585914916</desc><desc class=\"y centered\">208.22829866693016</desc></g><g class=\"slice\"><desc class=\"value\">0</desc><desc class=\"x centered\">552.7472585914916</desc><desc class=\"y centered\">208.22829866693016</desc></g><g class=\"slice\"><desc class=\"value\">0</desc><desc class=\"x centered\">552.7472585914916</desc><desc class=\"y centered\">208.22829866693016</desc></g><g class=\"slice\"><desc class=\"value\">0</desc><desc class=\"x centered\">552.7472585914916</desc><desc class=\"y centered\">208.22829866693016</desc></g><g class=\"slice\"><desc class=\"value\">0</desc><desc class=\"x centered\">552.7472585914916</desc><desc class=\"y centered\">208.22829866693016</desc></g><g class=\"slice\"><desc class=\"value\">0</desc><desc class=\"x centered\">552.7472585914916</desc><desc class=\"y centered\">208.22829866693016</desc></g><g class=\"slice\"><desc class=\"value\">0</desc><desc class=\"x centered\">552.7472585914916</desc><desc class=\"y centered\">208.22829866693016</desc></g><g class=\"slice\"><desc class=\"value\">0</desc><desc class=\"x centered\">552.7472585914916</desc><desc class=\"y centered\">208.22829866693016</desc></g><g class=\"slice\"><desc class=\"value\">0</desc><desc class=\"x centered\">552.7472585914916</desc><desc class=\"y centered\">208.22829866693016</desc></g><g class=\"big_slice\"><path class=\"slice reactive tooltip-trigger\" d=\"M337.597633 28.786483 A240.300000 240.300000 0 0 1 539.760561 211.321546 L306.000000 267.000000 A0.000000 0.000000 0 0 0 306.000000 267.000000 z\"/><desc class=\"value\">34981</desc><desc class=\"x centered\">386.5194154002396</desc><desc class=\"y centered\">177.82238933676427</desc></g></g></g><g class=\"series serie-2 color-2\"><g class=\"slices\"><g class=\"slice\"><desc class=\"label\">Aluminum Siding</desc><path class=\"slice reactive tooltip-trigger\" d=\"M565.733956 205.135051 A267.000000 267.000000 0 0 1 571.334925 237.227903 L544.801432 240.205112 A240.300000 240.300000 0 0 0 539.760561 211.321546 z\"/><desc class=\"value\">3544</desc><desc class=\"x centered\">555.8731533480463</desc><desc class=\"y centered\">223.39117364679822</desc></g><g class=\"slice\"><desc class=\"label\">Asphalt</desc><path class=\"slice reactive tooltip-trigger\" d=\"M571.334925 237.227903 A267.000000 267.000000 0 0 1 571.451781 238.288467 L544.906603 241.159620 A240.300000 240.300000 0 0 0 544.801432 240.205112 z\"/><desc class=\"value\">116</desc><desc class=\"x centered\">558.1241883117711</desc><desc class=\"y centered\">239.2202201569101</desc></g><g class=\"slice\"><desc class=\"label\">Brick - Painted</desc><path class=\"slice reactive tooltip-trigger\" d=\"M571.451781 238.288467 A267.000000 267.000000 0 0 1 538.742018 397.844002 L515.467816 384.759602 A240.300000 240.300000 0 0 0 544.906603 241.159620 z\"/><desc class=\"value\">17994</desc><desc class=\"x centered\">554.4822250637576</desc><desc class=\"y centered\">317.9402230792535</desc></g><g class=\"slice\"><desc class=\"label\">Brick - Unpainted</desc><path class=\"slice reactive tooltip-trigger\" d=\"M538.742018 397.844002 A267.000000 267.000000 0 0 1 364.131943 527.594853 L358.318748 501.535367 A240.300000 240.300000 0 0 0 515.467816 384.759602 z\"/><desc class=\"value\">24359</desc><desc class=\"x centered\">457.28801766802167</desc><desc class=\"y centered\">470.59336484787605</desc></g><g class=\"slice\"><desc class=\"label\">Cement (Sidewalk, Alley, Wall, Curb)</desc><path class=\"slice reactive tooltip-trigger\" d=\"M364.131943 527.594853 A267.000000 267.000000 0 0 1 252.527398 528.590674 L257.874658 502.431607 A240.300000 240.300000 0 0 0 358.318748 501.535367 z\"/><desc class=\"value\">12224</desc><desc class=\"x centered\">308.2631703142374</desc><desc class=\"y centered\">520.6399033277862</desc></g><g class=\"slice\"><desc class=\"label\">Glass</desc><path class=\"slice reactive tooltip-trigger\" d=\"M252.527398 528.590674 A267.000000 267.000000 0 0 1 222.577092 520.632842 L230.919382 495.269557 A240.300000 240.300000 0 0 0 257.874658 502.431607 z\"/><desc class=\"value\">3371</desc><desc class=\"x centered\">240.86485914484336</desc><desc class=\"y centered\">512.1443165275894</desc></g><g class=\"slice\"><desc class=\"label\">Limestone</desc><path class=\"slice reactive tooltip-trigger\" d=\"M222.577092 520.632842 A267.000000 267.000000 0 0 1 218.229553 519.161354 L227.006598 493.945219 A240.300000 240.300000 0 0 0 230.919382 495.269557 z\"/><desc class=\"value\">499</desc><desc class=\"x centered\">224.6801522011472</desc><desc class=\"y centered\">507.26111806526546</desc></g><g class=\"slice\"><desc class=\"label\">Marble/Granite</desc><path class=\"slice reactive tooltip-trigger\" d=\"M218.229553 519.161354 A267.000000 267.000000 0 0 1 216.494262 518.550637 L225.444835 493.395573 A240.300000 240.300000 0 0 0 227.006598 493.945219 z\"/><desc class=\"value\">200</desc><desc class=\"x centered\">221.79331216928924</desc><desc class=\"y centered\">506.2646154879179</desc></g><g class=\"slice\"><desc class=\"label\">Metal - Painted</desc><path class=\"slice reactive tooltip-trigger\" d=\"M216.494262 518.550637 A267.000000 267.000000 0 0 1 92.539077 106.614731 L113.885169 122.653258 A240.300000 240.300000 0 0 0 225.444835 493.395573 z\"/><desc class=\"value\">54378</desc><desc class=\"x centered\">63.108208702531186</desc><desc class=\"y centered\">340.08830426481967</desc></g><g class=\"slice\"><desc class=\"label\">Metal - Unpainted</desc><path class=\"slice reactive tooltip-trigger\" d=\"M92.539077 106.614731 A267.000000 267.000000 0 0 1 175.721648 33.940885 L188.749483 57.246797 A240.300000 240.300000 0 0 0 113.885169 122.653258 z\"/><desc class=\"value\">12096</desc><desc class=\"x centered\">139.11459422475494</desc><desc class=\"y centered\">75.98276559631643</desc></g><g class=\"slice\"><desc class=\"label\">Other / Unknown Surface</desc><path class=\"slice reactive tooltip-trigger\" d=\"M175.721648 33.940885 A267.000000 267.000000 0 0 1 195.414026 23.977897 L206.472624 48.280108 A240.300000 240.300000 0 0 0 188.749483 57.246797 z\"/><desc class=\"value\">2400</desc><desc class=\"x centered\">191.49161245256678</desc><desc class=\"y centered\">40.668049800106985</desc></g><g class=\"slice\"><desc class=\"label\">Other/Unknown Surface</desc><path class=\"slice reactive tooltip-trigger\" d=\"M195.414026 23.977897 A267.000000 267.000000 0 0 1 217.908207 14.950727 L226.717387 40.155654 A240.300000 240.300000 0 0 0 206.472624 48.280108 z\"/><desc class=\"value\">2636</desc><desc class=\"x centered\">211.53069800144732</desc><desc class=\"y centered\">31.598484542035607</desc></g><g class=\"slice\"><desc class=\"label\">Stucco</desc><path class=\"slice reactive tooltip-trigger\" d=\"M217.908207 14.950727 A267.000000 267.000000 0 0 1 220.622365 14.018460 L229.160128 39.316614 A240.300000 240.300000 0 0 0 226.717387 40.155654 z\"/><desc class=\"value\">312</desc><desc class=\"x centered\">223.6008318503258</desc><desc class=\"y centered\">27.106899665201468</desc></g><g class=\"slice\"><desc class=\"label\">Tree</desc><path class=\"slice reactive tooltip-trigger\" d=\"M220.622365 14.018460 A267.000000 267.000000 0 0 1 222.079208 13.531460 L230.471287 38.878314 A240.300000 240.300000 0 0 0 229.160128 39.316614 z\"/><desc class=\"value\">167</desc><desc class=\"x centered\">225.58291413115393</desc><desc class=\"y centered\">26.435217040476516</desc></g><g class=\"slice\"><desc class=\"label\">Vinyl Siding</desc><path class=\"slice reactive tooltip-trigger\" d=\"M222.079208 13.531460 A267.000000 267.000000 0 0 1 237.183371 9.020792 L244.065034 34.818713 A240.300000 240.300000 0 0 0 230.471287 38.878314 z\"/><desc class=\"value\">1714</desc><desc class=\"x centered\">233.4180942607727</desc><desc class=\"y centered\">23.956404200271265</desc></g><g class=\"slice\"><desc class=\"label\">Wood - Painted</desc><path class=\"slice reactive tooltip-trigger\" d=\"M237.183371 9.020792 A267.000000 267.000000 0 0 1 287.884410 0.615268 L289.695969 27.253741 A240.300000 240.300000 0 0 0 244.065034 34.818713 z\"/><desc class=\"value\">5596</desc><desc class=\"x centered\">264.51462039828004</desc><desc class=\"y centered\">16.76553838589456</desc></g><g class=\"slice\"><desc class=\"label\">Wood - Unpainted</desc><path class=\"slice reactive tooltip-trigger\" d=\"M287.884410 0.615268 A267.000000 267.000000 0 0 1 306.000000 0.000000 L306.000000 26.700000 A240.300000 240.300000 0 0 0 289.695969 27.253741 z\"/><desc class=\"value\">1971</desc><desc class=\"x centered\">297.3901332226286</desc><desc class=\"y centered\">13.49616828521917</desc></g><g class=\"big_slice\"><path class=\"slice reactive tooltip-trigger\" d=\"M539.760561 211.321546 A240.300000 240.300000 0 1 1 306.000000 26.700000 L306.000000 267.000000 A0.000000 0.000000 0 1 0 306.000000 267.000000 z\"/><desc class=\"value\">143577</desc><desc class=\"x centered\">231.53141809363945</desc><desc class=\"y centered\">361.2891977315306</desc></g></g></g></g><g class=\"titles\"><text class=\"title plot_title\" x=\"400.0\" y=\"26\">311 Call Types</text></g><g class=\"plot overlay\" transform=\"translate(168, 46)\"><g class=\"series serie-0 color-0\"/><g class=\"series serie-1 color-1\"/><g class=\"series serie-2 color-2\"/></g><g class=\"plot text-overlay\" transform=\"translate(168, 46)\"><g class=\"series serie-0 color-0\"/><g class=\"series serie-1 color-1\"/><g class=\"series serie-2 color-2\"/></g><g class=\"plot tooltip-overlay\" transform=\"translate(168, 46)\"><g class=\"tooltip\" style=\"opacity: 0\" transform=\"translate(0 0)\"><rect class=\"tooltip-box\" height=\"0\" rx=\"0\" ry=\"0\" width=\"0\"/><g class=\"text\"/></g></g><g class=\"legends\" transform=\"translate(10, 56)\"><g class=\"legend reactive activate-serie\" id=\"activate-serie-0\"><rect class=\"color-0 reactive\" height=\"12\" width=\"12\" x=\"0.0\" y=\"1.0\"/><text x=\"17.0\" y=\"11.2\">Building Calls</text></g><g class=\"legend reactive activate-serie\" id=\"activate-serie-1\"><rect class=\"color-1 reactive\" height=\"12\" width=\"12\" x=\"0.0\" y=\"22.0\"/><text x=\"17.0\" y=\"32.2\">Alley Light Ca…</text><title>Alley Light Calls</title></g><g class=\"legend reactive activate-serie\" id=\"activate-serie-2\"><rect class=\"color-2 reactive\" height=\"12\" width=\"12\" x=\"0.0\" y=\"43.0\"/><text x=\"17.0\" y=\"53.2\">Graffiti Remov…</text><title>Graffiti Removal Calls</title></g></g><g class=\"legends\" transform=\"translate(790, 56)\"/></g></svg>\n",
       "            </figure>\n",
       "          </body>\n",
       "        </html>\n",
       "        "
      ],
      "text/plain": [
       "<IPython.core.display.HTML object>"
      ]
     },
     "metadata": {},
     "output_type": "display_data"
    }
   ],
   "source": [
    "pie_chart = pygal.Pie()\n",
    "pie_chart.title = '311 Call Types'\n",
    "pie_chart.add(\"Building Calls\", building_subtypes)\n",
    "pie_chart.add(\"Alley Light Calls\", alley_subtypes)\n",
    "pie_chart.add(\"Graffiti Removal Calls\", graffiti_subtypes)\n",
    "galplot(pie_chart)"
   ]
  },
  {
   "cell_type": "markdown",
   "metadata": {},
   "source": [
    "#### Calls by Ward"
   ]
  },
  {
   "cell_type": "code",
   "execution_count": 7,
   "metadata": {},
   "outputs": [
    {
     "data": {
      "text/plain": [
       "<matplotlib.figure.Figure at 0x28ce7306828>"
      ]
     },
     "metadata": {},
     "output_type": "display_data"
    },
    {
     "data": {
      "image/png": "[encoded data removed]",
      "text/plain": [
       "<matplotlib.figure.Figure at 0x28ce4050c50>"
      ]
     },
     "metadata": {},
     "output_type": "display_data"
    }
   ],
   "source": [
    "ward_type = \"Ward\"\n",
    "ward_alley = dfByType(alley, ward_type)\n",
    "ward_graffiti = dfByType(graffiti, ward_type)\n",
    "ward_buildings = dfByType(building, ward_type)\n",
    "    \n",
    "ward_alley\n",
    "\n",
    "plt.figure(0)\n",
    "fig, ax = plt.subplots()\n",
    "ax.bar(ward_alley['Ward'], ward_alley['COUNT'], label=\"Alley Light Calls\")\n",
    "ax.bar(ward_graffiti['Ward'], ward_graffiti['COUNT'], label=\"Graffiti Removal Calls\")\n",
    "ax.bar(ward_buildings['Ward'], ward_buildings['COUNT'], label=\"Building Calls\")\n",
    "plt.xlabel(\"Ward\")\n",
    "plt.ylabel(\"Calls\")\n",
    "plt.title(\"Calls by Ward\")\n",
    "ax.legend()\n",
    "\n",
    "plt.show()"
   ]
  },
  {
   "cell_type": "code",
   "execution_count": 8,
   "metadata": {
    "scrolled": true
   },
   "outputs": [
    {
     "name": "stdout",
     "output_type": "stream",
     "text": [
      "\n",
      "Alley Light calls by Month\n",
      "              COUNT                                                         \n",
      "              count       mean        std   min    25%    50%     75%    max\n",
      "Creation Date                                                               \n",
      "2017-01-31     31.0  84.064516  39.507751  21.0  51.00   88.0  112.00  157.0\n",
      "2017-02-28     28.0  91.142857  38.716170  28.0  44.75   99.0  119.25  162.0\n",
      "2017-03-31     31.0  79.161290  33.365748  19.0  51.00   78.0  107.50  123.0\n",
      "2017-04-30     30.0  72.966667  30.830441  21.0  48.50   77.0   92.75  129.0\n",
      "2017-05-31     31.0  73.290323  34.171327  19.0  37.00   74.0   93.50  129.0\n",
      "2017-06-30     30.0  80.066667  32.624228  24.0  54.00   85.0  101.00  145.0\n",
      "2017-07-31     31.0  60.225806  29.490913  16.0  28.00   74.0   84.50  116.0\n",
      "2017-08-31     31.0  65.451613  28.262860  19.0  38.50   70.0   85.00  111.0\n",
      "2017-09-30     30.0  60.533333  27.041135  16.0  36.00   68.0   79.75  109.0\n",
      "2017-10-31     31.0  81.419355  39.470474  21.0  42.00   84.0  116.50  139.0\n",
      "2017-11-30     30.0  94.966667  47.720077  29.0  42.50  104.0  134.00  177.0\n",
      "2017-12-31     31.0  75.354839  44.353541  10.0  37.00   77.0  115.00  148.0\n",
      "2018-01-31     31.0  69.451613  32.484703  16.0  39.50   80.0   97.00  124.0\n",
      "2018-02-28     28.0  73.785714  46.351601   8.0  41.75   67.5  104.75  206.0\n",
      "2018-03-31     29.0  98.827586  37.617501  29.0  70.00  102.0  115.00  175.0\n",
      "\n",
      "Graffiti calls by Month\n",
      "              COUNT                                                       \\\n",
      "              count        mean         std   min     25%    50%     75%   \n",
      "Creation Date                                                              \n",
      "2017-01-31     31.0  291.129032  163.030006  31.0  114.50  309.0  432.00   \n",
      "2017-02-28     28.0  331.500000  187.281626  58.0  103.25  365.5  445.25   \n",
      "2017-03-31     31.0  280.064516  149.658931  41.0  131.00  318.0  382.00   \n",
      "2017-04-30     30.0  290.266667  160.975675  49.0   96.50  351.0  416.75   \n",
      "2017-05-31     31.0  286.161290  180.311785  45.0   97.50  306.0  387.50   \n",
      "2017-06-30     30.0  255.900000  177.094432  53.0  109.75  201.0  399.25   \n",
      "2017-07-31     31.0  230.064516  177.061371  43.0   73.00  155.0  383.50   \n",
      "2017-08-31     31.0  332.129032  188.179479  52.0  160.00  351.0  463.00   \n",
      "2017-09-30     30.0  396.266667  321.472467  49.0   85.25  361.5  562.50   \n",
      "2017-10-31     31.0  350.483871  228.627918  44.0   78.50  396.0  543.00   \n",
      "2017-11-30     30.0  351.933333  206.999073  28.0  120.25  404.0  500.75   \n",
      "2017-12-31     31.0  315.967742  214.710578   3.0   75.50  406.0  486.00   \n",
      "2018-01-31     31.0  344.967742  218.025761  22.0   88.50  407.0  491.50   \n",
      "2018-02-28     28.0  376.321429  248.775379  42.0   90.75  465.0  573.75   \n",
      "2018-03-31     29.0  352.310345  203.347890  50.0  120.00  430.0  489.00   \n",
      "\n",
      "                       \n",
      "                  max  \n",
      "Creation Date          \n",
      "2017-01-31      549.0  \n",
      "2017-02-28      634.0  \n",
      "2017-03-31      566.0  \n",
      "2017-04-30      542.0  \n",
      "2017-05-31      619.0  \n",
      "2017-06-30      596.0  \n",
      "2017-07-31      577.0  \n",
      "2017-08-31      680.0  \n",
      "2017-09-30     1226.0  \n",
      "2017-10-31      736.0  \n",
      "2017-11-30      707.0  \n",
      "2017-12-31      600.0  \n",
      "2018-01-31      645.0  \n",
      "2018-02-28      746.0  \n",
      "2018-03-31      610.0  \n",
      "\n",
      "Building calls by Month\n",
      "                                  COUNT                                        \\\n",
      "                                  count       mean       std  min   25%   50%   \n",
      "DATE SERVICE REQUEST WAS RECEIVED                                               \n",
      "2017-01-31                         31.0   7.483871  5.644295  1.0  2.50   6.0   \n",
      "2017-02-28                         28.0  13.178571  7.288009  1.0  7.00  13.0   \n",
      "2017-03-31                         30.0  12.600000  5.986191  2.0  9.00  12.0   \n",
      "2017-04-30                         30.0  12.733333  6.872902  2.0  6.50  12.5   \n",
      "2017-05-31                         31.0  12.903226  8.271859  1.0  5.50  12.0   \n",
      "2017-06-30                         29.0  10.034483  5.199469  1.0  6.00  11.0   \n",
      "2017-07-31                         30.0  10.800000  6.172240  1.0  6.00  12.0   \n",
      "2017-08-31                         31.0  11.290323  5.622535  1.0  9.00  11.0   \n",
      "2017-09-30                         30.0   8.800000  4.641641  1.0  5.25   9.0   \n",
      "2017-10-31                         31.0   9.032258  4.636693  1.0  6.00  10.0   \n",
      "2017-11-30                         29.0   7.000000  4.698024  1.0  2.00   6.0   \n",
      "2017-12-31                         29.0   6.655172  5.715117  1.0  3.00   5.0   \n",
      "2018-01-31                         30.0   8.066667  4.578310  1.0  5.00   7.5   \n",
      "2018-02-28                         28.0   7.500000  4.255715  1.0  4.00   7.5   \n",
      "2018-03-31                         29.0  12.689655  6.262721  3.0  8.00  14.0   \n",
      "\n",
      "                                                \n",
      "                                     75%   max  \n",
      "DATE SERVICE REQUEST WAS RECEIVED               \n",
      "2017-01-31                         10.50  19.0  \n",
      "2017-02-28                         19.00  32.0  \n",
      "2017-03-31                         16.75  28.0  \n",
      "2017-04-30                         17.75  27.0  \n",
      "2017-05-31                         19.00  29.0  \n",
      "2017-06-30                         13.00  18.0  \n",
      "2017-07-31                         16.00  21.0  \n",
      "2017-08-31                         14.50  24.0  \n",
      "2017-09-30                         11.75  20.0  \n",
      "2017-10-31                         11.50  18.0  \n",
      "2017-11-30                         11.00  18.0  \n",
      "2017-12-31                          9.00  24.0  \n",
      "2018-01-31                         11.00  18.0  \n",
      "2018-02-28                         10.50  17.0  \n",
      "2018-03-31                         18.00  25.0  \n"
     ]
    }
   ],
   "source": [
    "date_alley = dfByType(alley, \"Creation Date\")\n",
    "date_alley.set_index(['Creation Date'],inplace=True)\n",
    "date_alley = date_alley.groupby(pd.Grouper(freq='M'))\n",
    "\n",
    "\n",
    "date_graffiti = dfByType(graffiti, \"Creation Date\")\n",
    "date_graffiti.set_index(['Creation Date'],inplace=True)\n",
    "date_graffiti = date_graffiti.groupby(pd.Grouper(freq='M'))\n",
    "\n",
    "date_buildings = dfByType(building, \"DATE SERVICE REQUEST WAS RECEIVED\")\n",
    "date_buildings.set_index([\"DATE SERVICE REQUEST WAS RECEIVED\"],inplace=True)\n",
    "date_buildings = date_buildings.groupby(pd.Grouper(freq='M'))\n",
    "\n",
    "print(\"\\nAlley Light calls by Month\")\n",
    "print(date_alley.describe())\n",
    "print(\"\\nGraffiti calls by Month\")\n",
    "print(date_graffiti.describe())\n",
    "print(\"\\nBuilding calls by Month\")\n",
    "print(date_buildings.describe())\n"
   ]
  },
  {
   "cell_type": "code",
   "execution_count": 9,
   "metadata": {},
   "outputs": [
    {
     "data": {
      "image/png": "[encoded data removed]",
      "text/plain": [
       "<matplotlib.figure.Figure at 0x28ce72d4b38>"
      ]
     },
     "metadata": {},
     "output_type": "display_data"
    }
   ],
   "source": [
    "RESOLUTION = \"Resolution Time\"\n",
    "graffiti[RESOLUTION] = (graffiti['Completion Date'] - graffiti['Creation Date'])\n",
    "graffiti_by_resolution = groupByType(graffiti, RESOLUTION)\n",
    "graffiti_y = []\n",
    "graffiti_x = []\n",
    "\n",
    "for point in graffiti_by_resolution:\n",
    "    graffiti_x.append((point['label'].days))\n",
    "    graffiti_y.append(point['value'])\n",
    "    \n",
    "alley[RESOLUTION] = (alley['Completion Date'] - alley['Creation Date'])\n",
    "alley_by_resolution = groupByType(alley, RESOLUTION)\n",
    "alley_y = []\n",
    "alley_x = []\n",
    "\n",
    "for point in alley_by_resolution:\n",
    "    alley_x.append((point['label'].days))\n",
    "    alley_y.append(point['value'])\n",
    "    \n",
    "    \n",
    "plt.figure(1)\n",
    "plt.xlim(0, 10)\n",
    "plt.xlabel(\"Days to response\")\n",
    "plt.ylabel(\"Number of calls\")\n",
    "plt.title(\"Response time in Day\")\n",
    "plt.bar(graffiti_x, graffiti_y, label=\"Graffiti\")\n",
    "plt.bar(alley_x, alley_y, label=\"Alley Lights\")\n",
    "plt.legend()\n",
    "plt.show()"
   ]
  },
  {
   "cell_type": "markdown",
   "metadata": {},
   "source": [
    "Above, we can see that the vast majority of calls take less than a day to respond. In general though, graffiti response times appear to be better than alley-light response times. Response times for buildings were not made possible by this data set. "
   ]
  },
  {
   "cell_type": "markdown",
   "metadata": {},
   "source": [
    "### 1.3 Findings\n",
    "\n",
    "There were several interesting findings from this data, a few general points listed below:\n",
    "1. Response times for Graffiti and Alley Light Outages are much better than expected, with the majority coming within the first couple of days. In general though, the team responding to alley lights could be more responsive to meet the standards of the team who responds to graffiti removal requests.\n",
    "2. There is a group of calls in Wards 6-9 pertaining to Alley Light outages that appears to be an outlier in the data. The majority of the calls come from these wards. According to the data, about 10 wards appear to have significantly more calls for graffiti removal than any of the other wards. Perhaps this means there is more graffiti in 2017, or that the residents are more likely to complain.\n",
    "3. Graffiti calls comprise the largest portion of the three types of calls, eclipsing alley light outage calls and especially building related calls.\n",
    "4. In general, calls for graffiti removal are agnostic of the building type vandalized, though there are more calls for removal from metal surfaces than brick. Could this be due to a nicer asthetic on a brick structure than a metal structure? Could it be the type of buildings in a particular neighborhood frequently vandalized? \n",
    "5. About one in five building-related calls were for boarded up houses. Further analysis to see this change over time could indicate a growing or lessening problem of city blight in specific neighborhoods."
   ]
  },
  {
   "cell_type": "markdown",
   "metadata": {},
   "source": [
    "## Problem 2: Data Augmentation and APIs\n",
    "\n",
    "1. What types of blocks get “Vacant and Abandoned Buildings Reported”? \n",
    "    - Group by zip, what is the median income/race, etc.\n",
    "2. What types of blocks get “Alley Lights Out”?\n",
    "    - Group by zip, what is the median income/race, etc.\n",
    "3. Does that change over time in the data you collected?\n",
    "    - Group by zip, month\n",
    "4. What is the difference in blocks that get “Vacant and Abandoned Buildings Reported” vs “Alley Lights Out”?\n",
    "    - Is there a difference in income/race, etc."
   ]
  },
  {
   "cell_type": "code",
   "execution_count": 10,
   "metadata": {},
   "outputs": [],
   "source": [
    "from census import Census\n",
    "from us import states\n",
    "\n",
    "c = Census(\"fca63f0c87016d46f9bc5ca3a161d6b85f86f04a\")\n",
    "c.acs5.get(('NAME', 'B25034_010E', 'B02001_002E'), {'for':'state:{}'.format(states.IL.fips)}, year=2016)\n",
    "\n",
    "# Race fields\n",
    "RACE_TOTAL = 'B02001_001E'\n",
    "RACE_WHITE = 'B02001_002E'\n",
    "RACE_BLACK = 'B02001_003E'\n",
    "\n",
    "# Citizenship fields\n",
    "CITIZEN_TOTAL = 'B05001_001E'\n",
    "CITIZEN_USBORN = 'B05001_002E'\n",
    "CITIZEN_NATURALIZED = 'B05001_005E'\n",
    "CITIZEN_NON = 'B05001_006E'\n",
    "\n",
    "# Income fields\n",
    "INCOME = 'B19013_001E'\n",
    "INCOME_WHITE = 'B19013A_001E'\n",
    "INCOME_BLACK = 'B19013B_001E'\n",
    "INCOME_SINGLE = 'B19019_002E'\n",
    "INCOME_2P = 'B19019_003E'\n",
    "INCOME_3P = 'B19019_004E'\n",
    "INCOME_4P = 'B19019_005E'\n",
    "INCOME_5P = 'B19019_006E'\n",
    "INCOME_6P = 'B19019_007E'\n",
    "INCOME_7P = 'B19019_008E'\n",
    "\n",
    "# Tenure by type\n",
    "TENURE_OWNER = 'B25009_002E'\n",
    "TENURE_RENTER = 'B25009_010E'\n",
    "\n",
    "ZIP = 'zip code tabulation area'\n",
    "\n",
    "FIELDS = (RACE_TOTAL, RACE_WHITE, RACE_BLACK, \n",
    "          CITIZEN_TOTAL, CITIZEN_USBORN, CITIZEN_NATURALIZED,\n",
    "         CITIZEN_NON, INCOME, INCOME_WHITE, INCOME_BLACK, INCOME_SINGLE,\n",
    "         INCOME_2P, INCOME_3P, INCOME_4P, INCOME_5P, INCOME_6P, INCOME_7P,\n",
    "         TENURE_OWNER, TENURE_RENTER)\n",
    "\n",
    "zipcodes = set(alley['ZIP Code'].unique())\n",
    "nan = float('nan')\n",
    "res = []\n",
    "for zipcode in zipcodes:\n",
    "    if not pd.isnull(zipcode):\n",
    "        zipcode = str(int(zipcode))\n",
    "        res.extend(c.acs5.zipcode(FIELDS, zipcode))"
   ]
  },
  {
   "cell_type": "markdown",
   "metadata": {},
   "source": [
    "Above, we retrieve all the fields marked above for each zipcode given in the 311 call data. This way, we can join (as below) on zipcode to merge the acs data into each of our 3 call-typed dataframes:"
   ]
  },
  {
   "cell_type": "code",
   "execution_count": 11,
   "metadata": {},
   "outputs": [
    {
     "data": {
      "text/html": [
       "<div>\n",
       "<style>\n",
       "    .dataframe thead tr:only-child th {\n",
       "        text-align: right;\n",
       "    }\n",
       "\n",
       "    .dataframe thead th {\n",
       "        text-align: left;\n",
       "    }\n",
       "\n",
       "    .dataframe tbody tr th {\n",
       "        vertical-align: top;\n",
       "    }\n",
       "</style>\n",
       "<table border=\"1\" class=\"dataframe\">\n",
       "  <thead>\n",
       "    <tr style=\"text-align: right;\">\n",
       "      <th></th>\n",
       "      <th>Unnamed: 0</th>\n",
       "      <th>Creation Date</th>\n",
       "      <th>Status</th>\n",
       "      <th>Completion Date</th>\n",
       "      <th>Service Request Number</th>\n",
       "      <th>Type of Service Request</th>\n",
       "      <th>Street Address</th>\n",
       "      <th>ZIP Code</th>\n",
       "      <th>X Coordinate</th>\n",
       "      <th>Y Coordinate</th>\n",
       "      <th>Ward</th>\n",
       "      <th>Police District</th>\n",
       "      <th>Community Area</th>\n",
       "      <th>Latitude</th>\n",
       "      <th>Longitude</th>\n",
       "      <th>Location</th>\n",
       "      <th>Resolution Time</th>\n",
       "      <th>B02001_001E</th>\n",
       "      <th>B02001_002E</th>\n",
       "      <th>B02001_003E</th>\n",
       "      <th>B05001_001E</th>\n",
       "      <th>B05001_002E</th>\n",
       "      <th>B05001_005E</th>\n",
       "      <th>B05001_006E</th>\n",
       "      <th>B19013A_001E</th>\n",
       "      <th>B19013B_001E</th>\n",
       "      <th>B19013_001E</th>\n",
       "      <th>B19019_002E</th>\n",
       "      <th>B19019_003E</th>\n",
       "      <th>B19019_004E</th>\n",
       "      <th>B19019_005E</th>\n",
       "      <th>B19019_006E</th>\n",
       "      <th>B19019_007E</th>\n",
       "      <th>B19019_008E</th>\n",
       "      <th>B25009_002E</th>\n",
       "      <th>B25009_010E</th>\n",
       "      <th>zip code tabulation area</th>\n",
       "    </tr>\n",
       "  </thead>\n",
       "  <tbody>\n",
       "    <tr>\n",
       "      <th>34925</th>\n",
       "      <td>188716</td>\n",
       "      <td>2017-11-28</td>\n",
       "      <td>Completed</td>\n",
       "      <td>2018-02-14</td>\n",
       "      <td>17-08011700</td>\n",
       "      <td>Alley Light Out</td>\n",
       "      <td>63 E MONROE ST</td>\n",
       "      <td>60603</td>\n",
       "      <td>1.177003e+06</td>\n",
       "      <td>1.899949e+06</td>\n",
       "      <td>42.0</td>\n",
       "      <td>1.0</td>\n",
       "      <td>32.0</td>\n",
       "      <td>41.880803</td>\n",
       "      <td>-87.625515</td>\n",
       "      <td>(41.88080277288673, -87.62551533060267)</td>\n",
       "      <td>78 days</td>\n",
       "      <td>1029.0</td>\n",
       "      <td>617.0</td>\n",
       "      <td>33.0</td>\n",
       "      <td>1029.0</td>\n",
       "      <td>693.0</td>\n",
       "      <td>116.0</td>\n",
       "      <td>186.0</td>\n",
       "      <td>163125.0</td>\n",
       "      <td>-666666666.0</td>\n",
       "      <td>140500.0</td>\n",
       "      <td>130625.0</td>\n",
       "      <td>142969.0</td>\n",
       "      <td>113000.0</td>\n",
       "      <td>-666666666.0</td>\n",
       "      <td>-666666666.0</td>\n",
       "      <td>-666666666.0</td>\n",
       "      <td>-666666666.0</td>\n",
       "      <td>241.0</td>\n",
       "      <td>225.0</td>\n",
       "      <td>60603</td>\n",
       "    </tr>\n",
       "    <tr>\n",
       "      <th>34926</th>\n",
       "      <td>190634</td>\n",
       "      <td>2018-02-23</td>\n",
       "      <td>Completed</td>\n",
       "      <td>2018-03-22</td>\n",
       "      <td>18-00744090</td>\n",
       "      <td>Alley Light Out</td>\n",
       "      <td>36 S STATE ST</td>\n",
       "      <td>60603</td>\n",
       "      <td>1.176385e+06</td>\n",
       "      <td>1.900227e+06</td>\n",
       "      <td>42.0</td>\n",
       "      <td>1.0</td>\n",
       "      <td>32.0</td>\n",
       "      <td>41.881578</td>\n",
       "      <td>-87.627778</td>\n",
       "      <td>(41.88157809089096, -87.62777815989169)</td>\n",
       "      <td>27 days</td>\n",
       "      <td>1029.0</td>\n",
       "      <td>617.0</td>\n",
       "      <td>33.0</td>\n",
       "      <td>1029.0</td>\n",
       "      <td>693.0</td>\n",
       "      <td>116.0</td>\n",
       "      <td>186.0</td>\n",
       "      <td>163125.0</td>\n",
       "      <td>-666666666.0</td>\n",
       "      <td>140500.0</td>\n",
       "      <td>130625.0</td>\n",
       "      <td>142969.0</td>\n",
       "      <td>113000.0</td>\n",
       "      <td>-666666666.0</td>\n",
       "      <td>-666666666.0</td>\n",
       "      <td>-666666666.0</td>\n",
       "      <td>-666666666.0</td>\n",
       "      <td>241.0</td>\n",
       "      <td>225.0</td>\n",
       "      <td>60603</td>\n",
       "    </tr>\n",
       "    <tr>\n",
       "      <th>34927</th>\n",
       "      <td>182932</td>\n",
       "      <td>2017-11-09</td>\n",
       "      <td>Completed - Dup</td>\n",
       "      <td>2017-11-10</td>\n",
       "      <td>17-07582721</td>\n",
       "      <td>Alley Light Out</td>\n",
       "      <td>210 N STETSON SUB AVE</td>\n",
       "      <td>60601</td>\n",
       "      <td>NaN</td>\n",
       "      <td>NaN</td>\n",
       "      <td>NaN</td>\n",
       "      <td>NaN</td>\n",
       "      <td>NaN</td>\n",
       "      <td>NaN</td>\n",
       "      <td>NaN</td>\n",
       "      <td>NaN</td>\n",
       "      <td>1 days</td>\n",
       "      <td>13695.0</td>\n",
       "      <td>10012.0</td>\n",
       "      <td>1068.0</td>\n",
       "      <td>13695.0</td>\n",
       "      <td>10106.0</td>\n",
       "      <td>1039.0</td>\n",
       "      <td>2355.0</td>\n",
       "      <td>112356.0</td>\n",
       "      <td>108021.0</td>\n",
       "      <td>103735.0</td>\n",
       "      <td>72357.0</td>\n",
       "      <td>136330.0</td>\n",
       "      <td>114242.0</td>\n",
       "      <td>155560.0</td>\n",
       "      <td>-666666666.0</td>\n",
       "      <td>-666666666.0</td>\n",
       "      <td>-666666666.0</td>\n",
       "      <td>3434.0</td>\n",
       "      <td>4814.0</td>\n",
       "      <td>60601</td>\n",
       "    </tr>\n",
       "    <tr>\n",
       "      <th>34928</th>\n",
       "      <td>190630</td>\n",
       "      <td>2018-02-26</td>\n",
       "      <td>Completed</td>\n",
       "      <td>2018-03-22</td>\n",
       "      <td>18-00767538</td>\n",
       "      <td>Alley Light Out</td>\n",
       "      <td>130 E LAKE ST</td>\n",
       "      <td>60601</td>\n",
       "      <td>1.177480e+06</td>\n",
       "      <td>1.901763e+06</td>\n",
       "      <td>42.0</td>\n",
       "      <td>1.0</td>\n",
       "      <td>32.0</td>\n",
       "      <td>41.885768</td>\n",
       "      <td>-87.623709</td>\n",
       "      <td>(41.88576825335801, -87.62370944950345)</td>\n",
       "      <td>24 days</td>\n",
       "      <td>13695.0</td>\n",
       "      <td>10012.0</td>\n",
       "      <td>1068.0</td>\n",
       "      <td>13695.0</td>\n",
       "      <td>10106.0</td>\n",
       "      <td>1039.0</td>\n",
       "      <td>2355.0</td>\n",
       "      <td>112356.0</td>\n",
       "      <td>108021.0</td>\n",
       "      <td>103735.0</td>\n",
       "      <td>72357.0</td>\n",
       "      <td>136330.0</td>\n",
       "      <td>114242.0</td>\n",
       "      <td>155560.0</td>\n",
       "      <td>-666666666.0</td>\n",
       "      <td>-666666666.0</td>\n",
       "      <td>-666666666.0</td>\n",
       "      <td>3434.0</td>\n",
       "      <td>4814.0</td>\n",
       "      <td>60601</td>\n",
       "    </tr>\n",
       "    <tr>\n",
       "      <th>34929</th>\n",
       "      <td>186809</td>\n",
       "      <td>2017-08-22</td>\n",
       "      <td>Completed</td>\n",
       "      <td>2018-01-10</td>\n",
       "      <td>17-05618048</td>\n",
       "      <td>Alley Light Out</td>\n",
       "      <td>650 W WALNUT ST</td>\n",
       "      <td>60661</td>\n",
       "      <td>1.171825e+06</td>\n",
       "      <td>1.901892e+06</td>\n",
       "      <td>42.0</td>\n",
       "      <td>12.0</td>\n",
       "      <td>28.0</td>\n",
       "      <td>41.886250</td>\n",
       "      <td>-87.644470</td>\n",
       "      <td>(41.88625038014517, -87.64447042848253)</td>\n",
       "      <td>141 days</td>\n",
       "      <td>9343.0</td>\n",
       "      <td>5887.0</td>\n",
       "      <td>416.0</td>\n",
       "      <td>9343.0</td>\n",
       "      <td>6050.0</td>\n",
       "      <td>536.0</td>\n",
       "      <td>2475.0</td>\n",
       "      <td>107487.0</td>\n",
       "      <td>76319.0</td>\n",
       "      <td>101829.0</td>\n",
       "      <td>84451.0</td>\n",
       "      <td>140651.0</td>\n",
       "      <td>196333.0</td>\n",
       "      <td>250001.0</td>\n",
       "      <td>-666666666.0</td>\n",
       "      <td>-666666666.0</td>\n",
       "      <td>-666666666.0</td>\n",
       "      <td>1713.0</td>\n",
       "      <td>3940.0</td>\n",
       "      <td>60661</td>\n",
       "    </tr>\n",
       "  </tbody>\n",
       "</table>\n",
       "</div>"
      ],
      "text/plain": [
       "       Unnamed: 0 Creation Date           Status Completion Date  \\\n",
       "34925      188716    2017-11-28        Completed      2018-02-14   \n",
       "34926      190634    2018-02-23        Completed      2018-03-22   \n",
       "34927      182932    2017-11-09  Completed - Dup      2017-11-10   \n",
       "34928      190630    2018-02-26        Completed      2018-03-22   \n",
       "34929      186809    2017-08-22        Completed      2018-01-10   \n",
       "\n",
       "      Service Request Number Type of Service Request         Street Address  \\\n",
       "34925            17-08011700         Alley Light Out         63 E MONROE ST   \n",
       "34926            18-00744090         Alley Light Out          36 S STATE ST   \n",
       "34927            17-07582721         Alley Light Out  210 N STETSON SUB AVE   \n",
       "34928            18-00767538         Alley Light Out          130 E LAKE ST   \n",
       "34929            17-05618048         Alley Light Out        650 W WALNUT ST   \n",
       "\n",
       "      ZIP Code  X Coordinate  Y Coordinate  Ward  Police District  \\\n",
       "34925    60603  1.177003e+06  1.899949e+06  42.0              1.0   \n",
       "34926    60603  1.176385e+06  1.900227e+06  42.0              1.0   \n",
       "34927    60601           NaN           NaN   NaN              NaN   \n",
       "34928    60601  1.177480e+06  1.901763e+06  42.0              1.0   \n",
       "34929    60661  1.171825e+06  1.901892e+06  42.0             12.0   \n",
       "\n",
       "       Community Area   Latitude  Longitude  \\\n",
       "34925            32.0  41.880803 -87.625515   \n",
       "34926            32.0  41.881578 -87.627778   \n",
       "34927             NaN        NaN        NaN   \n",
       "34928            32.0  41.885768 -87.623709   \n",
       "34929            28.0  41.886250 -87.644470   \n",
       "\n",
       "                                      Location Resolution Time  B02001_001E  \\\n",
       "34925  (41.88080277288673, -87.62551533060267)         78 days       1029.0   \n",
       "34926  (41.88157809089096, -87.62777815989169)         27 days       1029.0   \n",
       "34927                                      NaN          1 days      13695.0   \n",
       "34928  (41.88576825335801, -87.62370944950345)         24 days      13695.0   \n",
       "34929  (41.88625038014517, -87.64447042848253)        141 days       9343.0   \n",
       "\n",
       "       B02001_002E  B02001_003E  B05001_001E  B05001_002E  B05001_005E  \\\n",
       "34925        617.0         33.0       1029.0        693.0        116.0   \n",
       "34926        617.0         33.0       1029.0        693.0        116.0   \n",
       "34927      10012.0       1068.0      13695.0      10106.0       1039.0   \n",
       "34928      10012.0       1068.0      13695.0      10106.0       1039.0   \n",
       "34929       5887.0        416.0       9343.0       6050.0        536.0   \n",
       "\n",
       "       B05001_006E  B19013A_001E  B19013B_001E  B19013_001E  B19019_002E  \\\n",
       "34925        186.0      163125.0  -666666666.0     140500.0     130625.0   \n",
       "34926        186.0      163125.0  -666666666.0     140500.0     130625.0   \n",
       "34927       2355.0      112356.0      108021.0     103735.0      72357.0   \n",
       "34928       2355.0      112356.0      108021.0     103735.0      72357.0   \n",
       "34929       2475.0      107487.0       76319.0     101829.0      84451.0   \n",
       "\n",
       "       B19019_003E  B19019_004E  B19019_005E  B19019_006E  B19019_007E  \\\n",
       "34925     142969.0     113000.0 -666666666.0 -666666666.0 -666666666.0   \n",
       "34926     142969.0     113000.0 -666666666.0 -666666666.0 -666666666.0   \n",
       "34927     136330.0     114242.0     155560.0 -666666666.0 -666666666.0   \n",
       "34928     136330.0     114242.0     155560.0 -666666666.0 -666666666.0   \n",
       "34929     140651.0     196333.0     250001.0 -666666666.0 -666666666.0   \n",
       "\n",
       "       B19019_008E  B25009_002E  B25009_010E zip code tabulation area  \n",
       "34925 -666666666.0        241.0        225.0                    60603  \n",
       "34926 -666666666.0        241.0        225.0                    60603  \n",
       "34927 -666666666.0       3434.0       4814.0                    60601  \n",
       "34928 -666666666.0       3434.0       4814.0                    60601  \n",
       "34929 -666666666.0       1713.0       3940.0                    60661  "
      ]
     },
     "execution_count": 11,
     "metadata": {},
     "output_type": "execute_result"
    }
   ],
   "source": [
    "acs_df = pd.DataFrame(res)\n",
    "acs_df\n",
    "\n",
    "alley_acs = pd.merge(alley, acs_df, left_on = 'ZIP Code', right_on = ZIP)\n",
    "graffiti_acs = pd.merge(graffiti, acs_df, left_on = 'ZIP Code', right_on = ZIP)\n",
    "building_acs = pd.merge(building, acs_df, left_on = 'ZIP CODE', right_on = ZIP)\n",
    "\n",
    "pd.set_option('display.max_columns', 500)\n",
    "#group = alley_acs.sort_values([ZIP, INCOME]).groupby(['ZIP Code']).sum()\n",
    "alley_acs.tail()\n"
   ]
  },
  {
   "cell_type": "markdown",
   "metadata": {},
   "source": [
    "How do incomes of those for each call-type differ?\n",
    "Below, we look at the income for each to see that Graffiti calls are often called by zipcodes (blocks) with the highest average income. Building calls are often from the lowest income neighborhoods. Alley-light calls fall somewhere in between\n"
   ]
  },
  {
   "cell_type": "code",
   "execution_count": 12,
   "metadata": {},
   "outputs": [
    {
     "name": "stdout",
     "output_type": "stream",
     "text": [
      "Mean Income for Alley-Light calls: 46232.383595762956\n",
      "Mean Income for Graffiti calls: 54361.490193889585\n",
      "Mean Income for Building calls: 34526.38224719101\n"
     ]
    }
   ],
   "source": [
    "print(\"Mean Income for Alley-Light calls: {}\".format(alley_acs[INCOME].mean()))\n",
    "print(\"Mean Income for Graffiti calls: {}\".format(graffiti_acs[INCOME].mean()))\n",
    "print(\"Mean Income for Building calls: {}\".format(building_acs[INCOME].mean()))"
   ]
  },
  {
   "cell_type": "markdown",
   "metadata": {},
   "source": [
    "How does the median income makeup of these calls change over time? Let's take a look. Unfortunately, pandas grouping function is pretty abysmal with time series, so the following is not grouped. This is a todo for the future to look cleaner."
   ]
  },
  {
   "cell_type": "code",
   "execution_count": 13,
   "metadata": {},
   "outputs": [
    {
     "data": {
      "image/png": "[encoded data removed]",
      "text/plain": [
       "<matplotlib.figure.Figure at 0x28cecf82320>"
      ]
     },
     "metadata": {},
     "output_type": "display_data"
    },
    {
     "data": {
      "image/png": "[encoded data removed]",
      "text/plain": [
       "<matplotlib.figure.Figure at 0x28cea22e5c0>"
      ]
     },
     "metadata": {},
     "output_type": "display_data"
    },
    {
     "data": {
      "image/png": "[encoded data removed]",
      "text/plain": [
       "<matplotlib.figure.Figure at 0x28ceacdb400>"
      ]
     },
     "metadata": {},
     "output_type": "display_data"
    }
   ],
   "source": [
    "alley_acs.plot(x='Creation Date', y=INCOME, title=\"Alley Calls - Neighb income over time\")\n",
    "graffiti_acs.plot(x='Creation Date', y=INCOME, title=\"Graffiti Calls - Neighb income over time\")\n",
    "building_acs.plot(x='DATE SERVICE REQUEST WAS RECEIVED', y=INCOME, title='Building Calls - Neighb income over time')\n",
    "plt.show()"
   ]
  },
  {
   "cell_type": "markdown",
   "metadata": {},
   "source": [
    "Now, how does ownership status of the callers for each call-type differ? Below, we look at the ownership makeup to see that the number is flat across, though it looks like more Graffiti calls come from those areas where more folks rent, where more Building calls come from areas where there are more owners, respectively among these datasets."
   ]
  },
  {
   "cell_type": "code",
   "execution_count": 14,
   "metadata": {},
   "outputs": [
    {
     "name": "stdout",
     "output_type": "stream",
     "text": [
      "The ratio of renters to owners for Alley calls is 1.0344798692052568\n",
      "The ratio of renters to owners for Building calls is 1.201859071464683\n",
      "The ratio of renters to owners for Graffiti calls is 1.369274610503061\n"
     ]
    }
   ],
   "source": [
    "alley_owners = alley_acs[TENURE_OWNER].sum()\n",
    "alley_renters = alley_acs[TENURE_RENTER].sum()\n",
    "\n",
    "graffiti_owners = graffiti_acs[TENURE_OWNER].sum()\n",
    "graffiti_renters = graffiti_acs[TENURE_RENTER].sum()\n",
    "\n",
    "building_owners = building_acs[TENURE_OWNER].sum()\n",
    "building_renters = building_acs[TENURE_RENTER].sum()\n",
    "\n",
    "print(\"The ratio of renters to owners for Alley calls is {}\".format(alley_renters/alley_owners))\n",
    "print(\"The ratio of renters to owners for Building calls is {}\".format(building_renters/building_owners))\n",
    "print(\"The ratio of renters to owners for Graffiti calls is {}\".format(graffiti_renters/graffiti_owners))\n"
   ]
  },
  {
   "cell_type": "markdown",
   "metadata": {},
   "source": [
    "How does the citizenship of the callers for each call-type differ? Below, let's look at citizenship to find an interesting spread. It seems that for building calls, the callers overwhelmingly identify as citizens for the neighborhoods which frequently call in, whereas the ratio is smaller for alley and graffiti calls. This could mean that areas where there are mostly us citizens are more likely to own and maintain their buildings. Since renters make fewer building complaints than owners as we saw above, this could imply that non-citizens rent more frequently, which stands to reason."
   ]
  },
  {
   "cell_type": "code",
   "execution_count": 15,
   "metadata": {},
   "outputs": [
    {
     "name": "stdout",
     "output_type": "stream",
     "text": [
      "The ratio of citizens:non for Alley calls is 5.955777849455747\n",
      "The ratio of citizens:non for Graffiti calls is 4.080033628888703\n",
      "The ratio of citizens:non for Building calls is 11.85071767451586\n"
     ]
    }
   ],
   "source": [
    "alley_citizens = alley_acs[CITIZEN_USBORN].sum()\n",
    "alley_non = alley_acs[CITIZEN_NON].sum()\n",
    "\n",
    "graffiti_citizens = graffiti_acs[CITIZEN_USBORN].sum()\n",
    "graffiti_non = graffiti_acs[CITIZEN_NON].sum()\n",
    "\n",
    "building_citizens = building_acs[CITIZEN_USBORN].sum()\n",
    "building_non = building_acs[CITIZEN_NON].sum()\n",
    "\n",
    "print(\"The ratio of citizens:non for Alley calls is {}\".format(alley_citizens/alley_non))\n",
    "print(\"The ratio of citizens:non for Graffiti calls is {}\".format(graffiti_citizens/graffiti_non))\n",
    "print(\"The ratio of citizens:non for Building calls is {}\".format(building_citizens/building_non))"
   ]
  },
  {
   "cell_type": "markdown",
   "metadata": {},
   "source": [
    "## Problem 3: 3600 W Roosevelt"
   ]
  },
  {
   "cell_type": "markdown",
   "metadata": {},
   "source": [
    "### 3a.\n",
    "Of the three types of requests you have data for, which request type is the most likely given the call came from 3600 W Roosevelt Ave? What are the probabilities for each type of request?"
   ]
  },
  {
   "cell_type": "code",
   "execution_count": 16,
   "metadata": {},
   "outputs": [
    {
     "name": "stdout",
     "output_type": "stream",
     "text": [
      "0.016294559903947858% of Alley calls (570) were from this address's Community Area.\n",
      "0.006219362532674187% of Graffiti calls (897) were from this address's Community Area.\n",
      "0.02719572001783326% of Building calls (122) were from this address's Community Area.\n"
     ]
    }
   ],
   "source": [
    "CA = \"Community Area\"\n",
    "CA_NORTH_LAWNDALE = 29\n",
    "\n",
    "total_alley = len(alley)\n",
    "total_graffiti = len(graffiti)\n",
    "total_building = len(building)\n",
    "\n",
    "NL_alley = len(alley[alley[CA] == CA_NORTH_LAWNDALE])\n",
    "NL_graffiti = len(graffiti[graffiti[CA] == CA_NORTH_LAWNDALE])\n",
    "NL_building = len(building[building[CA] == CA_NORTH_LAWNDALE])\n",
    "\n",
    "pct_alley = NL_alley/total_alley\n",
    "pct_graffiti = NL_graffiti/total_graffiti\n",
    "pct_building = NL_building/total_building\n",
    "\n",
    "print(\"{}% of Alley calls ({}) were from this address's Community Area.\".format(pct_alley, NL_alley))\n",
    "print(\"{}% of Graffiti calls ({}) were from this address's Community Area.\".format(pct_graffiti, NL_graffiti))\n",
    "print(\"{}% of Building calls ({}) were from this address's Community Area.\".format(pct_building, NL_building))\n"
   ]
  },
  {
   "cell_type": "markdown",
   "metadata": {},
   "source": [
    "Above, I've decided to group by granularity of Community Area. 3600 W Roosevelt Ave is drawn currently under Community Area 29. Using this detail, I've compiled the percentages for each of our three request types above. Although the highest proportion of calls from Community Area 29 are for Building calls, the highest total calls from Community Area 29 were for graffiti removal requests. Therefore, it is most likely that a call from this community area will be for a request for graffiti removal."
   ]
  },
  {
   "cell_type": "markdown",
   "metadata": {},
   "source": [
    "### 3b.\n",
    "Let’s now assume that a call comes in about Graffiti Removal. Which is more likely – that the call came from Garfield Park or Uptown? How much more or less likely is it to be from Garfield Park vs Uptown?"
   ]
  },
  {
   "cell_type": "code",
   "execution_count": 17,
   "metadata": {},
   "outputs": [
    {
     "name": "stdout",
     "output_type": "stream",
     "text": [
      "Garfield calls: 0.4291845493562232%\n",
      "Uptown calls: 1.7042578712723693%\n",
      "It is 3.97092084006462x more likely that the call was from Uptown than Garfield\n"
     ]
    }
   ],
   "source": [
    "CA_EAST_GARFIELD=26\n",
    "CA_WEST_GARFIELD=27\n",
    "CA_UPTOWN=3\n",
    "\n",
    "east = len(graffiti[graffiti[CA] == CA_EAST_GARFIELD ])\n",
    "west = len(graffiti[graffiti[CA] == CA_WEST_GARFIELD])\n",
    "uptown = len(graffiti[graffiti[CA] == CA_UPTOWN])\n",
    "\n",
    "pct_garfield = (east + west)/total_graffiti*100\n",
    "pct_uptown = uptown/total_graffiti*100\n",
    "\n",
    "print(\"Garfield calls: {}%\".format(pct_garfield))\n",
    "print(\"Uptown calls: {}%\".format(pct_uptown))\n",
    "print(\"It is {}x more likely that the call was from Uptown than Garfield\".format(pct_uptown/pct_garfield))"
   ]
  },
  {
   "cell_type": "markdown",
   "metadata": {},
   "source": [
    "Above, I used all 2017 data to determine the percentage of the total graffiti calls coming from East & West Garfield vs the percentage of calls oming from Uptown, based on the Community Area designations of each. \n",
    "\n",
    "Given this data, roughly 0.43% of calls came from Garfield, whereas 1.7% of calls came from Uptown. Therefore, it is roughly four times more likely that a call for graffiti removal will come from Uptown rather than Garfield."
   ]
  },
  {
   "cell_type": "markdown",
   "metadata": {},
   "source": [
    "### 3c.\n",
    "Now assume that you don’t have access to all the raw data and you know the following things:\n",
    "\n",
    "- There are a total of 1000 calls, 600 from Garfield Park and 400 from Uptown. \n",
    "- Of the 600 calls from Garfield Park, 100 of them are about Graffiti Removal. Of the 400 calls from Uptown, 160 are about Graffiti Removal. \n",
    "\n",
    "If a call comes about Graffiti Removal, how much more/less likely is it that the call came from Garfield Park versus Uptown?"
   ]
  },
  {
   "cell_type": "code",
   "execution_count": 18,
   "metadata": {},
   "outputs": [
    {
     "name": "stdout",
     "output_type": "stream",
     "text": [
      "% of graffiti-related calls from Garfield: 38.46153846153846%\n",
      "% of graffiti-related calls from Uptown 61.53846153846154%\n",
      "It is 1.6x more likely that the call was from Uptown than Garfield\n"
     ]
    }
   ],
   "source": [
    "total_calls = 1000\n",
    "garfield_total_calls = 600\n",
    "garfield_graffiti_calls = 100\n",
    "uptown_total_calls = 400\n",
    "uptown_graffiti_calls = 160\n",
    "\n",
    "# Given the call is graffiti removal related, what is the likelihood it is from Garfield Park?\n",
    "total_graffiti_calls = garfield_graffiti_calls + uptown_graffiti_calls\n",
    "\n",
    "pct_graffiti_garfield = 100*garfield_graffiti_calls/total_graffiti_calls\n",
    "pct_graffiti_uptown = 100*uptown_graffiti_calls/total_graffiti_calls\n",
    "\n",
    "graffiti_ratio = pct_graffiti_uptown/pct_graffiti_garfield\n",
    "\n",
    "print(\"% of graffiti-related calls from Garfield: {}%\".format(pct_graffiti_garfield))\n",
    "print(\"% of graffiti-related calls from Uptown {}%\".format(pct_graffiti_uptown))\n",
    "print(\"It is {}x more likely that the call was from Uptown than Garfield\".format(pct_graffiti_uptown/pct_graffiti_garfield))"
   ]
  },
  {
   "cell_type": "markdown",
   "metadata": {},
   "source": [
    "Above, using the given data from the problem, we must take the conditional expectation for each neighborhood based on the condition that the call is graffiti-related. Given the call is graffiti-related, there are a total of 100+160=260 calls among the two neighborhoods. Roughly 38% of those calls are from Garfield, and 62% are from Uptown. Therefore it is 1.6 times as likely that the call was from Uptown, rather than Garfield, based on the aggregate data given."
   ]
  }
 ],
 "metadata": {
  "kernelspec": {
   "display_name": "Python 3",
   "language": "python",
   "name": "python3"
  },
  "language_info": {
   "codemirror_mode": {
    "name": "ipython",
    "version": 3
   },
   "file_extension": ".py",
   "mimetype": "text/x-python",
   "name": "python",
   "nbconvert_exporter": "python",
   "pygments_lexer": "ipython3",
   "version": "3.6.3"
  }
 },
 "nbformat": 4,
 "nbformat_minor": 2
}
