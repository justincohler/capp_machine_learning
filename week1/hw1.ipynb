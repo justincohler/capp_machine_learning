{
 "cells": [
  {
   "cell_type": "code",
   "execution_count": null,
   "metadata": {},
   "outputs": [],
   "source": [
    "import pandas as pd\n",
    "import numpy as np\n",
    "import matplotlib.pyplot as plt\n",
    "from IPython.display import display, HTML, Image\n",
    "import pygal\n",
    "from functools import reduce\n",
    "import collections\n",
    "from datetime import datetime, timedelta\n",
    "from hw1 import retrieveData, groupByType, dfByType, galplot"
   ]
  },
  {
   "cell_type": "markdown",
   "metadata": {},
   "source": [
    "## Problem 1: Data Acquisition and Analysis\n",
    "### First thing's first: Import all three CSVs"
   ]
  },
  {
   "cell_type": "code",
   "execution_count": 15,
   "metadata": {},
   "outputs": [
    {
     "ename": "FileNotFoundError",
     "evalue": "File b'311_Service_Requests_-_Vacant_and_Abandoned_buildings_Reported.csv' does not exist",
     "output_type": "error",
     "traceback": [
      "\u001b[1;31m---------------------------------------------------------------------------\u001b[0m",
      "\u001b[1;31mFileNotFoundError\u001b[0m                         Traceback (most recent call last)",
      "\u001b[1;32m<ipython-input-15-e3f15bd29bc2>\u001b[0m in \u001b[0;36m<module>\u001b[1;34m()\u001b[0m\n\u001b[1;32m----> 1\u001b[1;33m \u001b[1;33m(\u001b[0m\u001b[0malley\u001b[0m\u001b[1;33m,\u001b[0m \u001b[0mgraffiti\u001b[0m\u001b[1;33m,\u001b[0m \u001b[0mbuilding\u001b[0m\u001b[1;33m)\u001b[0m \u001b[1;33m=\u001b[0m \u001b[0mretrieveData\u001b[0m\u001b[1;33m(\u001b[0m\u001b[1;33m)\u001b[0m\u001b[1;33m\u001b[0m\u001b[0m\n\u001b[0m\u001b[0;32m      2\u001b[0m \u001b[1;32massert\u001b[0m\u001b[1;33m(\u001b[0m\u001b[1;32mnot\u001b[0m \u001b[0malley\u001b[0m\u001b[1;33m.\u001b[0m\u001b[0mempty\u001b[0m\u001b[1;33m)\u001b[0m\u001b[1;33m\u001b[0m\u001b[0m\n\u001b[0;32m      3\u001b[0m \u001b[1;32massert\u001b[0m\u001b[1;33m(\u001b[0m\u001b[1;32mnot\u001b[0m \u001b[0mgraffiti\u001b[0m\u001b[1;33m.\u001b[0m\u001b[0mempty\u001b[0m\u001b[1;33m)\u001b[0m\u001b[1;33m\u001b[0m\u001b[0m\n\u001b[0;32m      4\u001b[0m \u001b[1;32massert\u001b[0m\u001b[1;33m(\u001b[0m\u001b[1;32mnot\u001b[0m \u001b[0mbuilding\u001b[0m\u001b[1;33m.\u001b[0m\u001b[0mempty\u001b[0m\u001b[1;33m)\u001b[0m\u001b[1;33m\u001b[0m\u001b[0m\n",
      "\u001b[1;32m~\\workspaces\\capp302\\week1\\hw1.py\u001b[0m in \u001b[0;36mretrieveData\u001b[1;34m()\u001b[0m\n\u001b[0;32m     22\u001b[0m     \u001b[0mgraffiti\u001b[0m \u001b[1;33m=\u001b[0m \u001b[0mgraffiti\u001b[0m\u001b[1;33m[\u001b[0m\u001b[0mgraffiti\u001b[0m\u001b[1;33m[\u001b[0m\u001b[1;34m\"Creation Date\"\u001b[0m\u001b[1;33m]\u001b[0m \u001b[1;33m>=\u001b[0m \u001b[0mdt\u001b[0m\u001b[1;33m]\u001b[0m\u001b[1;33m\u001b[0m\u001b[0m\n\u001b[0;32m     23\u001b[0m \u001b[1;33m\u001b[0m\u001b[0m\n\u001b[1;32m---> 24\u001b[1;33m     \u001b[0mbuilding\u001b[0m \u001b[1;33m=\u001b[0m \u001b[0mpd\u001b[0m\u001b[1;33m.\u001b[0m\u001b[0mread_csv\u001b[0m\u001b[1;33m(\u001b[0m\u001b[1;34m\"311_Service_Requests_-_Vacant_and_Abandoned_buildings_Reported.csv\"\u001b[0m\u001b[1;33m)\u001b[0m\u001b[1;33m\u001b[0m\u001b[0m\n\u001b[0m\u001b[0;32m     25\u001b[0m     \u001b[0mbuilding\u001b[0m\u001b[1;33m[\u001b[0m\u001b[1;34m\"DATE SERVICE REQUEST WAS RECEIVED\"\u001b[0m\u001b[1;33m]\u001b[0m \u001b[1;33m=\u001b[0m \u001b[0mpd\u001b[0m\u001b[1;33m.\u001b[0m\u001b[0mto_datetime\u001b[0m\u001b[1;33m(\u001b[0m\u001b[0mbuilding\u001b[0m\u001b[1;33m[\u001b[0m\u001b[1;34m\"DATE SERVICE REQUEST WAS RECEIVED\"\u001b[0m\u001b[1;33m]\u001b[0m\u001b[1;33m)\u001b[0m\u001b[1;33m\u001b[0m\u001b[0m\n\u001b[0;32m     26\u001b[0m     \u001b[0mbuilding\u001b[0m \u001b[1;33m=\u001b[0m \u001b[0mbuilding\u001b[0m\u001b[1;33m[\u001b[0m\u001b[0mbuilding\u001b[0m\u001b[1;33m[\u001b[0m\u001b[1;34m\"DATE SERVICE REQUEST WAS RECEIVED\"\u001b[0m\u001b[1;33m]\u001b[0m \u001b[1;33m>=\u001b[0m \u001b[0mdt\u001b[0m\u001b[1;33m]\u001b[0m\u001b[1;33m\u001b[0m\u001b[0m\n",
      "\u001b[1;32mC:\\Program Files\\Anaconda3\\lib\\site-packages\\pandas\\io\\parsers.py\u001b[0m in \u001b[0;36mparser_f\u001b[1;34m(filepath_or_buffer, sep, delimiter, header, names, index_col, usecols, squeeze, prefix, mangle_dupe_cols, dtype, engine, converters, true_values, false_values, skipinitialspace, skiprows, nrows, na_values, keep_default_na, na_filter, verbose, skip_blank_lines, parse_dates, infer_datetime_format, keep_date_col, date_parser, dayfirst, iterator, chunksize, compression, thousands, decimal, lineterminator, quotechar, quoting, escapechar, comment, encoding, dialect, tupleize_cols, error_bad_lines, warn_bad_lines, skipfooter, skip_footer, doublequote, delim_whitespace, as_recarray, compact_ints, use_unsigned, low_memory, buffer_lines, memory_map, float_precision)\u001b[0m\n\u001b[0;32m    653\u001b[0m                     skip_blank_lines=skip_blank_lines)\n\u001b[0;32m    654\u001b[0m \u001b[1;33m\u001b[0m\u001b[0m\n\u001b[1;32m--> 655\u001b[1;33m         \u001b[1;32mreturn\u001b[0m \u001b[0m_read\u001b[0m\u001b[1;33m(\u001b[0m\u001b[0mfilepath_or_buffer\u001b[0m\u001b[1;33m,\u001b[0m \u001b[0mkwds\u001b[0m\u001b[1;33m)\u001b[0m\u001b[1;33m\u001b[0m\u001b[0m\n\u001b[0m\u001b[0;32m    656\u001b[0m \u001b[1;33m\u001b[0m\u001b[0m\n\u001b[0;32m    657\u001b[0m     \u001b[0mparser_f\u001b[0m\u001b[1;33m.\u001b[0m\u001b[0m__name__\u001b[0m \u001b[1;33m=\u001b[0m \u001b[0mname\u001b[0m\u001b[1;33m\u001b[0m\u001b[0m\n",
      "\u001b[1;32mC:\\Program Files\\Anaconda3\\lib\\site-packages\\pandas\\io\\parsers.py\u001b[0m in \u001b[0;36m_read\u001b[1;34m(filepath_or_buffer, kwds)\u001b[0m\n\u001b[0;32m    403\u001b[0m \u001b[1;33m\u001b[0m\u001b[0m\n\u001b[0;32m    404\u001b[0m     \u001b[1;31m# Create the parser.\u001b[0m\u001b[1;33m\u001b[0m\u001b[1;33m\u001b[0m\u001b[0m\n\u001b[1;32m--> 405\u001b[1;33m     \u001b[0mparser\u001b[0m \u001b[1;33m=\u001b[0m \u001b[0mTextFileReader\u001b[0m\u001b[1;33m(\u001b[0m\u001b[0mfilepath_or_buffer\u001b[0m\u001b[1;33m,\u001b[0m \u001b[1;33m**\u001b[0m\u001b[0mkwds\u001b[0m\u001b[1;33m)\u001b[0m\u001b[1;33m\u001b[0m\u001b[0m\n\u001b[0m\u001b[0;32m    406\u001b[0m \u001b[1;33m\u001b[0m\u001b[0m\n\u001b[0;32m    407\u001b[0m     \u001b[1;32mif\u001b[0m \u001b[0mchunksize\u001b[0m \u001b[1;32mor\u001b[0m \u001b[0miterator\u001b[0m\u001b[1;33m:\u001b[0m\u001b[1;33m\u001b[0m\u001b[0m\n",
      "\u001b[1;32mC:\\Program Files\\Anaconda3\\lib\\site-packages\\pandas\\io\\parsers.py\u001b[0m in \u001b[0;36m__init__\u001b[1;34m(self, f, engine, **kwds)\u001b[0m\n\u001b[0;32m    762\u001b[0m             \u001b[0mself\u001b[0m\u001b[1;33m.\u001b[0m\u001b[0moptions\u001b[0m\u001b[1;33m[\u001b[0m\u001b[1;34m'has_index_names'\u001b[0m\u001b[1;33m]\u001b[0m \u001b[1;33m=\u001b[0m \u001b[0mkwds\u001b[0m\u001b[1;33m[\u001b[0m\u001b[1;34m'has_index_names'\u001b[0m\u001b[1;33m]\u001b[0m\u001b[1;33m\u001b[0m\u001b[0m\n\u001b[0;32m    763\u001b[0m \u001b[1;33m\u001b[0m\u001b[0m\n\u001b[1;32m--> 764\u001b[1;33m         \u001b[0mself\u001b[0m\u001b[1;33m.\u001b[0m\u001b[0m_make_engine\u001b[0m\u001b[1;33m(\u001b[0m\u001b[0mself\u001b[0m\u001b[1;33m.\u001b[0m\u001b[0mengine\u001b[0m\u001b[1;33m)\u001b[0m\u001b[1;33m\u001b[0m\u001b[0m\n\u001b[0m\u001b[0;32m    765\u001b[0m \u001b[1;33m\u001b[0m\u001b[0m\n\u001b[0;32m    766\u001b[0m     \u001b[1;32mdef\u001b[0m \u001b[0mclose\u001b[0m\u001b[1;33m(\u001b[0m\u001b[0mself\u001b[0m\u001b[1;33m)\u001b[0m\u001b[1;33m:\u001b[0m\u001b[1;33m\u001b[0m\u001b[0m\n",
      "\u001b[1;32mC:\\Program Files\\Anaconda3\\lib\\site-packages\\pandas\\io\\parsers.py\u001b[0m in \u001b[0;36m_make_engine\u001b[1;34m(self, engine)\u001b[0m\n\u001b[0;32m    983\u001b[0m     \u001b[1;32mdef\u001b[0m \u001b[0m_make_engine\u001b[0m\u001b[1;33m(\u001b[0m\u001b[0mself\u001b[0m\u001b[1;33m,\u001b[0m \u001b[0mengine\u001b[0m\u001b[1;33m=\u001b[0m\u001b[1;34m'c'\u001b[0m\u001b[1;33m)\u001b[0m\u001b[1;33m:\u001b[0m\u001b[1;33m\u001b[0m\u001b[0m\n\u001b[0;32m    984\u001b[0m         \u001b[1;32mif\u001b[0m \u001b[0mengine\u001b[0m \u001b[1;33m==\u001b[0m \u001b[1;34m'c'\u001b[0m\u001b[1;33m:\u001b[0m\u001b[1;33m\u001b[0m\u001b[0m\n\u001b[1;32m--> 985\u001b[1;33m             \u001b[0mself\u001b[0m\u001b[1;33m.\u001b[0m\u001b[0m_engine\u001b[0m \u001b[1;33m=\u001b[0m \u001b[0mCParserWrapper\u001b[0m\u001b[1;33m(\u001b[0m\u001b[0mself\u001b[0m\u001b[1;33m.\u001b[0m\u001b[0mf\u001b[0m\u001b[1;33m,\u001b[0m \u001b[1;33m**\u001b[0m\u001b[0mself\u001b[0m\u001b[1;33m.\u001b[0m\u001b[0moptions\u001b[0m\u001b[1;33m)\u001b[0m\u001b[1;33m\u001b[0m\u001b[0m\n\u001b[0m\u001b[0;32m    986\u001b[0m         \u001b[1;32melse\u001b[0m\u001b[1;33m:\u001b[0m\u001b[1;33m\u001b[0m\u001b[0m\n\u001b[0;32m    987\u001b[0m             \u001b[1;32mif\u001b[0m \u001b[0mengine\u001b[0m \u001b[1;33m==\u001b[0m \u001b[1;34m'python'\u001b[0m\u001b[1;33m:\u001b[0m\u001b[1;33m\u001b[0m\u001b[0m\n",
      "\u001b[1;32mC:\\Program Files\\Anaconda3\\lib\\site-packages\\pandas\\io\\parsers.py\u001b[0m in \u001b[0;36m__init__\u001b[1;34m(self, src, **kwds)\u001b[0m\n\u001b[0;32m   1603\u001b[0m         \u001b[0mkwds\u001b[0m\u001b[1;33m[\u001b[0m\u001b[1;34m'allow_leading_cols'\u001b[0m\u001b[1;33m]\u001b[0m \u001b[1;33m=\u001b[0m \u001b[0mself\u001b[0m\u001b[1;33m.\u001b[0m\u001b[0mindex_col\u001b[0m \u001b[1;32mis\u001b[0m \u001b[1;32mnot\u001b[0m \u001b[1;32mFalse\u001b[0m\u001b[1;33m\u001b[0m\u001b[0m\n\u001b[0;32m   1604\u001b[0m \u001b[1;33m\u001b[0m\u001b[0m\n\u001b[1;32m-> 1605\u001b[1;33m         \u001b[0mself\u001b[0m\u001b[1;33m.\u001b[0m\u001b[0m_reader\u001b[0m \u001b[1;33m=\u001b[0m \u001b[0mparsers\u001b[0m\u001b[1;33m.\u001b[0m\u001b[0mTextReader\u001b[0m\u001b[1;33m(\u001b[0m\u001b[0msrc\u001b[0m\u001b[1;33m,\u001b[0m \u001b[1;33m**\u001b[0m\u001b[0mkwds\u001b[0m\u001b[1;33m)\u001b[0m\u001b[1;33m\u001b[0m\u001b[0m\n\u001b[0m\u001b[0;32m   1606\u001b[0m \u001b[1;33m\u001b[0m\u001b[0m\n\u001b[0;32m   1607\u001b[0m         \u001b[1;31m# XXX\u001b[0m\u001b[1;33m\u001b[0m\u001b[1;33m\u001b[0m\u001b[0m\n",
      "\u001b[1;32mpandas/_libs/parsers.pyx\u001b[0m in \u001b[0;36mpandas._libs.parsers.TextReader.__cinit__ (pandas\\_libs\\parsers.c:4209)\u001b[1;34m()\u001b[0m\n",
      "\u001b[1;32mpandas/_libs/parsers.pyx\u001b[0m in \u001b[0;36mpandas._libs.parsers.TextReader._setup_parser_source (pandas\\_libs\\parsers.c:8873)\u001b[1;34m()\u001b[0m\n",
      "\u001b[1;31mFileNotFoundError\u001b[0m: File b'311_Service_Requests_-_Vacant_and_Abandoned_buildings_Reported.csv' does not exist"
     ]
    }
   ],
   "source": [
    "(alley, graffiti, building) = retrieveData()\n",
    "assert(not alley.empty)\n",
    "assert(not graffiti.empty)\n",
    "assert(not building.empty)"
   ]
  },
  {
   "cell_type": "markdown",
   "metadata": {},
   "source": [
    "### Sub-types\n",
    "Let's select a couple of columns in each set to use for our sub-type analysis, then group by those columns for summarization:"
   ]
  },
  {
   "cell_type": "code",
   "execution_count": 3,
   "metadata": {},
   "outputs": [
    {
     "data": {
      "text/plain": [
       "[{'label': 'Boarded', 'value': 688}, {'label': 'Open', 'value': 3140}]"
      ]
     },
     "execution_count": 3,
     "metadata": {},
     "output_type": "execute_result"
    }
   ],
   "source": [
    "building_type = \"IS BUILDING OPEN OR BOARDED?\"\n",
    "building_subtypes = groupByType(building, building_type)\n",
    "    \n",
    "building_subtypes"
   ]
  },
  {
   "cell_type": "code",
   "execution_count": 4,
   "metadata": {},
   "outputs": [
    {
     "data": {
      "text/plain": [
       "[{'label': 'Completed', 'value': 14014},\n",
       " {'label': 'Completed - Dup', 'value': 13635},\n",
       " {'label': 'Open', 'value': 4339},\n",
       " {'label': 'Open - Dup', 'value': 2993}]"
      ]
     },
     "execution_count": 4,
     "metadata": {},
     "output_type": "execute_result"
    }
   ],
   "source": [
    "alley_type = \"Status\"\n",
    "alley_subtypes = groupByType(alley, alley_type)\n",
    "\n",
    "alley_subtypes"
   ]
  },
  {
   "cell_type": "code",
   "execution_count": 5,
   "metadata": {},
   "outputs": [
    {
     "data": {
      "text/plain": [
       "[{'label': 'Aluminum Siding', 'value': 3544},\n",
       " {'label': 'Asphalt', 'value': 116},\n",
       " {'label': 'Brick - Painted', 'value': 17994},\n",
       " {'label': 'Brick - Unpainted', 'value': 24359},\n",
       " {'label': 'Cement (Sidewalk, Alley, Wall, Curb)', 'value': 12224},\n",
       " {'label': 'Glass', 'value': 3371},\n",
       " {'label': 'Limestone', 'value': 499},\n",
       " {'label': 'Marble/Granite', 'value': 200},\n",
       " {'label': 'Metal - Painted', 'value': 54378},\n",
       " {'label': 'Metal - Unpainted', 'value': 12096},\n",
       " {'label': 'Other / Unknown Surface', 'value': 2400},\n",
       " {'label': 'Other/Unknown Surface', 'value': 2636},\n",
       " {'label': 'Stucco', 'value': 312},\n",
       " {'label': 'Tree', 'value': 167},\n",
       " {'label': 'Vinyl Siding', 'value': 1714},\n",
       " {'label': 'Wood - Painted', 'value': 5596},\n",
       " {'label': 'Wood - Unpainted', 'value': 1971}]"
      ]
     },
     "execution_count": 5,
     "metadata": {},
     "output_type": "execute_result"
    }
   ],
   "source": [
    "graffiti_type = \"What Type of Surface is the Graffiti on?\"\n",
    "graffiti_subtypes = groupByType(graffiti, graffiti_type)\n",
    "\n",
    "graffiti_subtypes"
   ]
  },
  {
   "cell_type": "markdown",
   "metadata": {},
   "source": [
    "Now, let's simply see what the biggest source of calls are, and visualize this data at a very basic level:"
   ]
  },
  {
   "cell_type": "code",
   "execution_count": 6,
   "metadata": {},
   "outputs": [
    {
     "data": {
      "text/html": [
       "\n",
       "        <!DOCTYPE html>\n",
       "        <html>\n",
       "          <head>\n",
       "          <script type=\"text/javascript\" src=\"http://kozea.github.com/pygal.js/javascripts/svg.jquery.js\"></script>\n",
       "          <script type=\"text/javascript\" src=\"https://kozea.github.io/pygal.js/2.0.x/pygal-tooltips.min.js\"\"></script>\n",
       "          </head>\n",
       "          <body>\n",
       "            <figure>\n",
       "              <?xml version='1.0' encoding='utf-8'?>\n",
       "<svg xmlns:xlink=\"http://www.w3.org/1999/xlink\" xmlns=\"http://www.w3.org/2000/svg\" id=\"chart-cc05de86-caa9-4e90-a8f0-66ac1a72fa11\" class=\"pygal-chart\" viewBox=\"0 0 800 600\"><!--Generated with pygal 2.4.0 (lxml) ©Kozea 2012-2016 on 2018-04-02--><!--http://pygal.org--><!--http://github.com/Kozea/pygal--><defs><style type=\"text/css\">#chart-cc05de86-caa9-4e90-a8f0-66ac1a72fa11{-webkit-user-select:none;-webkit-font-smoothing:antialiased;font-family:Consolas,\"Liberation Mono\",Menlo,Courier,monospace}#chart-cc05de86-caa9-4e90-a8f0-66ac1a72fa11 .title{font-family:Consolas,\"Liberation Mono\",Menlo,Courier,monospace;font-size:16px}#chart-cc05de86-caa9-4e90-a8f0-66ac1a72fa11 .legends .legend text{font-family:Consolas,\"Liberation Mono\",Menlo,Courier,monospace;font-size:14px}#chart-cc05de86-caa9-4e90-a8f0-66ac1a72fa11 .axis text{font-family:Consolas,\"Liberation Mono\",Menlo,Courier,monospace;font-size:10px}#chart-cc05de86-caa9-4e90-a8f0-66ac1a72fa11 .axis text.major{font-family:Consolas,\"Liberation Mono\",Menlo,Courier,monospace;font-size:10px}#chart-cc05de86-caa9-4e90-a8f0-66ac1a72fa11 .text-overlay text.value{font-family:Consolas,\"Liberation Mono\",Menlo,Courier,monospace;font-size:16px}#chart-cc05de86-caa9-4e90-a8f0-66ac1a72fa11 .text-overlay text.label{font-family:Consolas,\"Liberation Mono\",Menlo,Courier,monospace;font-size:10px}#chart-cc05de86-caa9-4e90-a8f0-66ac1a72fa11 .tooltip{font-family:Consolas,\"Liberation Mono\",Menlo,Courier,monospace;font-size:14px}#chart-cc05de86-caa9-4e90-a8f0-66ac1a72fa11 text.no_data{font-family:Consolas,\"Liberation Mono\",Menlo,Courier,monospace;font-size:64px}\n",
       "#chart-cc05de86-caa9-4e90-a8f0-66ac1a72fa11{background-color:rgba(249,249,249,1)}#chart-cc05de86-caa9-4e90-a8f0-66ac1a72fa11 path,#chart-cc05de86-caa9-4e90-a8f0-66ac1a72fa11 line,#chart-cc05de86-caa9-4e90-a8f0-66ac1a72fa11 rect,#chart-cc05de86-caa9-4e90-a8f0-66ac1a72fa11 circle{-webkit-transition:150ms;-moz-transition:150ms;transition:150ms}#chart-cc05de86-caa9-4e90-a8f0-66ac1a72fa11 .graph &gt; .background{fill:rgba(249,249,249,1)}#chart-cc05de86-caa9-4e90-a8f0-66ac1a72fa11 .plot &gt; .background{fill:rgba(255,255,255,1)}#chart-cc05de86-caa9-4e90-a8f0-66ac1a72fa11 .graph{fill:rgba(0,0,0,.87)}#chart-cc05de86-caa9-4e90-a8f0-66ac1a72fa11 text.no_data{fill:rgba(0,0,0,1)}#chart-cc05de86-caa9-4e90-a8f0-66ac1a72fa11 .title{fill:rgba(0,0,0,1)}#chart-cc05de86-caa9-4e90-a8f0-66ac1a72fa11 .legends .legend text{fill:rgba(0,0,0,.87)}#chart-cc05de86-caa9-4e90-a8f0-66ac1a72fa11 .legends .legend:hover text{fill:rgba(0,0,0,1)}#chart-cc05de86-caa9-4e90-a8f0-66ac1a72fa11 .axis .line{stroke:rgba(0,0,0,1)}#chart-cc05de86-caa9-4e90-a8f0-66ac1a72fa11 .axis .guide.line{stroke:rgba(0,0,0,.54)}#chart-cc05de86-caa9-4e90-a8f0-66ac1a72fa11 .axis .major.line{stroke:rgba(0,0,0,.87)}#chart-cc05de86-caa9-4e90-a8f0-66ac1a72fa11 .axis text.major{fill:rgba(0,0,0,1)}#chart-cc05de86-caa9-4e90-a8f0-66ac1a72fa11 .axis.y .guides:hover .guide.line,#chart-cc05de86-caa9-4e90-a8f0-66ac1a72fa11 .line-graph .axis.x .guides:hover .guide.line,#chart-cc05de86-caa9-4e90-a8f0-66ac1a72fa11 .stackedline-graph .axis.x .guides:hover .guide.line,#chart-cc05de86-caa9-4e90-a8f0-66ac1a72fa11 .xy-graph .axis.x .guides:hover .guide.line{stroke:rgba(0,0,0,1)}#chart-cc05de86-caa9-4e90-a8f0-66ac1a72fa11 .axis .guides:hover text{fill:rgba(0,0,0,1)}#chart-cc05de86-caa9-4e90-a8f0-66ac1a72fa11 .reactive{fill-opacity:.7;stroke-opacity:.8}#chart-cc05de86-caa9-4e90-a8f0-66ac1a72fa11 .ci{stroke:rgba(0,0,0,.87)}#chart-cc05de86-caa9-4e90-a8f0-66ac1a72fa11 .reactive.active,#chart-cc05de86-caa9-4e90-a8f0-66ac1a72fa11 .active .reactive{fill-opacity:.8;stroke-opacity:.9;stroke-width:4}#chart-cc05de86-caa9-4e90-a8f0-66ac1a72fa11 .ci .reactive.active{stroke-width:1.5}#chart-cc05de86-caa9-4e90-a8f0-66ac1a72fa11 .series text{fill:rgba(0,0,0,1)}#chart-cc05de86-caa9-4e90-a8f0-66ac1a72fa11 .tooltip rect{fill:rgba(255,255,255,1);stroke:rgba(0,0,0,1);-webkit-transition:opacity 150ms;-moz-transition:opacity 150ms;transition:opacity 150ms}#chart-cc05de86-caa9-4e90-a8f0-66ac1a72fa11 .tooltip .label{fill:rgba(0,0,0,.87)}#chart-cc05de86-caa9-4e90-a8f0-66ac1a72fa11 .tooltip .label{fill:rgba(0,0,0,.87)}#chart-cc05de86-caa9-4e90-a8f0-66ac1a72fa11 .tooltip .legend{font-size:.8em;fill:rgba(0,0,0,.54)}#chart-cc05de86-caa9-4e90-a8f0-66ac1a72fa11 .tooltip .x_label{font-size:.6em;fill:rgba(0,0,0,1)}#chart-cc05de86-caa9-4e90-a8f0-66ac1a72fa11 .tooltip .xlink{font-size:.5em;text-decoration:underline}#chart-cc05de86-caa9-4e90-a8f0-66ac1a72fa11 .tooltip .value{font-size:1.5em}#chart-cc05de86-caa9-4e90-a8f0-66ac1a72fa11 .bound{font-size:.5em}#chart-cc05de86-caa9-4e90-a8f0-66ac1a72fa11 .max-value{font-size:.75em;fill:rgba(0,0,0,.54)}#chart-cc05de86-caa9-4e90-a8f0-66ac1a72fa11 .map-element{fill:rgba(255,255,255,1);stroke:rgba(0,0,0,.54) !important}#chart-cc05de86-caa9-4e90-a8f0-66ac1a72fa11 .map-element .reactive{fill-opacity:inherit;stroke-opacity:inherit}#chart-cc05de86-caa9-4e90-a8f0-66ac1a72fa11 .color-0,#chart-cc05de86-caa9-4e90-a8f0-66ac1a72fa11 .color-0 a:visited{stroke:#F44336;fill:#F44336}#chart-cc05de86-caa9-4e90-a8f0-66ac1a72fa11 .color-1,#chart-cc05de86-caa9-4e90-a8f0-66ac1a72fa11 .color-1 a:visited{stroke:#3F51B5;fill:#3F51B5}#chart-cc05de86-caa9-4e90-a8f0-66ac1a72fa11 .color-2,#chart-cc05de86-caa9-4e90-a8f0-66ac1a72fa11 .color-2 a:visited{stroke:#009688;fill:#009688}#chart-cc05de86-caa9-4e90-a8f0-66ac1a72fa11 .text-overlay .color-0 text{fill:black}#chart-cc05de86-caa9-4e90-a8f0-66ac1a72fa11 .text-overlay .color-1 text{fill:black}#chart-cc05de86-caa9-4e90-a8f0-66ac1a72fa11 .text-overlay .color-2 text{fill:black}\n",
       "#chart-cc05de86-caa9-4e90-a8f0-66ac1a72fa11 text.no_data{text-anchor:middle}#chart-cc05de86-caa9-4e90-a8f0-66ac1a72fa11 .guide.line{fill:none}#chart-cc05de86-caa9-4e90-a8f0-66ac1a72fa11 .centered{text-anchor:middle}#chart-cc05de86-caa9-4e90-a8f0-66ac1a72fa11 .title{text-anchor:middle}#chart-cc05de86-caa9-4e90-a8f0-66ac1a72fa11 .legends .legend text{fill-opacity:1}#chart-cc05de86-caa9-4e90-a8f0-66ac1a72fa11 .axis.x text{text-anchor:middle}#chart-cc05de86-caa9-4e90-a8f0-66ac1a72fa11 .axis.x:not(.web) text[transform]{text-anchor:start}#chart-cc05de86-caa9-4e90-a8f0-66ac1a72fa11 .axis.x:not(.web) text[transform].backwards{text-anchor:end}#chart-cc05de86-caa9-4e90-a8f0-66ac1a72fa11 .axis.y text{text-anchor:end}#chart-cc05de86-caa9-4e90-a8f0-66ac1a72fa11 .axis.y text[transform].backwards{text-anchor:start}#chart-cc05de86-caa9-4e90-a8f0-66ac1a72fa11 .axis.y2 text{text-anchor:start}#chart-cc05de86-caa9-4e90-a8f0-66ac1a72fa11 .axis.y2 text[transform].backwards{text-anchor:end}#chart-cc05de86-caa9-4e90-a8f0-66ac1a72fa11 .axis .guide.line{stroke-dasharray:4,4}#chart-cc05de86-caa9-4e90-a8f0-66ac1a72fa11 .axis .major.guide.line{stroke-dasharray:6,6}#chart-cc05de86-caa9-4e90-a8f0-66ac1a72fa11 .horizontal .axis.y .guide.line,#chart-cc05de86-caa9-4e90-a8f0-66ac1a72fa11 .horizontal .axis.y2 .guide.line,#chart-cc05de86-caa9-4e90-a8f0-66ac1a72fa11 .vertical .axis.x .guide.line{opacity:0}#chart-cc05de86-caa9-4e90-a8f0-66ac1a72fa11 .horizontal .axis.always_show .guide.line,#chart-cc05de86-caa9-4e90-a8f0-66ac1a72fa11 .vertical .axis.always_show .guide.line{opacity:1 !important}#chart-cc05de86-caa9-4e90-a8f0-66ac1a72fa11 .axis.y .guides:hover .guide.line,#chart-cc05de86-caa9-4e90-a8f0-66ac1a72fa11 .axis.y2 .guides:hover .guide.line,#chart-cc05de86-caa9-4e90-a8f0-66ac1a72fa11 .axis.x .guides:hover .guide.line{opacity:1}#chart-cc05de86-caa9-4e90-a8f0-66ac1a72fa11 .axis .guides:hover text{opacity:1}#chart-cc05de86-caa9-4e90-a8f0-66ac1a72fa11 .nofill{fill:none}#chart-cc05de86-caa9-4e90-a8f0-66ac1a72fa11 .subtle-fill{fill-opacity:.2}#chart-cc05de86-caa9-4e90-a8f0-66ac1a72fa11 .dot{stroke-width:1px;fill-opacity:1}#chart-cc05de86-caa9-4e90-a8f0-66ac1a72fa11 .dot.active{stroke-width:5px}#chart-cc05de86-caa9-4e90-a8f0-66ac1a72fa11 .dot.negative{fill:transparent}#chart-cc05de86-caa9-4e90-a8f0-66ac1a72fa11 text,#chart-cc05de86-caa9-4e90-a8f0-66ac1a72fa11 tspan{stroke:none !important}#chart-cc05de86-caa9-4e90-a8f0-66ac1a72fa11 .series text.active{opacity:1}#chart-cc05de86-caa9-4e90-a8f0-66ac1a72fa11 .tooltip rect{fill-opacity:.95;stroke-width:.5}#chart-cc05de86-caa9-4e90-a8f0-66ac1a72fa11 .tooltip text{fill-opacity:1}#chart-cc05de86-caa9-4e90-a8f0-66ac1a72fa11 .showable{visibility:hidden}#chart-cc05de86-caa9-4e90-a8f0-66ac1a72fa11 .showable.shown{visibility:visible}#chart-cc05de86-caa9-4e90-a8f0-66ac1a72fa11 .gauge-background{fill:rgba(229,229,229,1);stroke:none}#chart-cc05de86-caa9-4e90-a8f0-66ac1a72fa11 .bg-lines{stroke:rgba(249,249,249,1);stroke-width:2px}</style><script type=\"text/javascript\">window.pygal = window.pygal || {};window.pygal.config = window.pygal.config || {};window.pygal.config['cc05de86-caa9-4e90-a8f0-66ac1a72fa11'] = {\"allow_interruptions\": false, \"box_mode\": \"extremes\", \"classes\": [\"pygal-chart\"], \"css\": [\"file://style.css\", \"file://graph.css\"], \"defs\": [], \"disable_xml_declaration\": false, \"dots_size\": 2.5, \"dynamic_print_values\": false, \"explicit_size\": false, \"fill\": false, \"force_uri_protocol\": \"https\", \"formatter\": null, \"half_pie\": false, \"height\": 600, \"include_x_axis\": false, \"inner_radius\": 0, \"interpolate\": null, \"interpolation_parameters\": {}, \"interpolation_precision\": 250, \"inverse_y_axis\": false, \"js\": [\"//kozea.github.io/pygal.js/2.0.x/pygal-tooltips.min.js\"], \"legend_at_bottom\": false, \"legend_at_bottom_columns\": null, \"legend_box_size\": 12, \"logarithmic\": false, \"margin\": 20, \"margin_bottom\": null, \"margin_left\": null, \"margin_right\": null, \"margin_top\": null, \"max_scale\": 16, \"min_scale\": 4, \"missing_value_fill_truncation\": \"x\", \"no_data_text\": \"No data\", \"no_prefix\": false, \"order_min\": null, \"pretty_print\": false, \"print_labels\": false, \"print_values\": false, \"print_values_position\": \"center\", \"print_zeroes\": true, \"range\": null, \"rounded_bars\": null, \"secondary_range\": null, \"show_dots\": true, \"show_legend\": true, \"show_minor_x_labels\": true, \"show_minor_y_labels\": true, \"show_only_major_dots\": false, \"show_x_guides\": false, \"show_x_labels\": true, \"show_y_guides\": true, \"show_y_labels\": true, \"spacing\": 10, \"stack_from_top\": false, \"strict\": false, \"stroke\": true, \"stroke_style\": null, \"style\": {\"background\": \"rgba(249, 249, 249, 1)\", \"ci_colors\": [], \"colors\": [\"#F44336\", \"#3F51B5\", \"#009688\", \"#FFC107\", \"#FF5722\", \"#9C27B0\", \"#03A9F4\", \"#8BC34A\", \"#FF9800\", \"#E91E63\", \"#2196F3\", \"#4CAF50\", \"#FFEB3B\", \"#673AB7\", \"#00BCD4\", \"#CDDC39\", \"#9E9E9E\", \"#607D8B\"], \"font_family\": \"Consolas, \\\"Liberation Mono\\\", Menlo, Courier, monospace\", \"foreground\": \"rgba(0, 0, 0, .87)\", \"foreground_strong\": \"rgba(0, 0, 0, 1)\", \"foreground_subtle\": \"rgba(0, 0, 0, .54)\", \"guide_stroke_dasharray\": \"4,4\", \"label_font_family\": \"Consolas, \\\"Liberation Mono\\\", Menlo, Courier, monospace\", \"label_font_size\": 10, \"legend_font_family\": \"Consolas, \\\"Liberation Mono\\\", Menlo, Courier, monospace\", \"legend_font_size\": 14, \"major_guide_stroke_dasharray\": \"6,6\", \"major_label_font_family\": \"Consolas, \\\"Liberation Mono\\\", Menlo, Courier, monospace\", \"major_label_font_size\": 10, \"no_data_font_family\": \"Consolas, \\\"Liberation Mono\\\", Menlo, Courier, monospace\", \"no_data_font_size\": 64, \"opacity\": \".7\", \"opacity_hover\": \".8\", \"plot_background\": \"rgba(255, 255, 255, 1)\", \"stroke_opacity\": \".8\", \"stroke_opacity_hover\": \".9\", \"title_font_family\": \"Consolas, \\\"Liberation Mono\\\", Menlo, Courier, monospace\", \"title_font_size\": 16, \"tooltip_font_family\": \"Consolas, \\\"Liberation Mono\\\", Menlo, Courier, monospace\", \"tooltip_font_size\": 14, \"transition\": \"150ms\", \"value_background\": \"rgba(229, 229, 229, 1)\", \"value_colors\": [], \"value_font_family\": \"Consolas, \\\"Liberation Mono\\\", Menlo, Courier, monospace\", \"value_font_size\": 16, \"value_label_font_family\": \"Consolas, \\\"Liberation Mono\\\", Menlo, Courier, monospace\", \"value_label_font_size\": 10}, \"title\": \"311 Call Types\", \"tooltip_border_radius\": 0, \"tooltip_fancy_mode\": true, \"truncate_label\": null, \"truncate_legend\": null, \"width\": 800, \"x_label_rotation\": 0, \"x_labels\": null, \"x_labels_major\": null, \"x_labels_major_count\": null, \"x_labels_major_every\": null, \"x_title\": null, \"xrange\": null, \"y_label_rotation\": 0, \"y_labels\": null, \"y_labels_major\": null, \"y_labels_major_count\": null, \"y_labels_major_every\": null, \"y_title\": null, \"zero\": 0, \"legends\": [\"Building Calls\", \"Alley Light Calls\", \"Graffiti Removal Calls\"]}</script><script type=\"text/javascript\" xlink:href=\"https://kozea.github.io/pygal.js/2.0.x/pygal-tooltips.min.js\"/></defs><title>311 Call Types</title><g class=\"graph pie-graph vertical\"><rect class=\"background\" height=\"600\" width=\"800\" x=\"0\" y=\"0\"/><g class=\"plot\" transform=\"translate(168, 46)\"><rect class=\"background\" height=\"534\" width=\"612.0\" x=\"0\" y=\"0\"/><g class=\"series serie-0 color-0\"><g class=\"slices\"><g class=\"slice\"><desc class=\"label\">Boarded</desc><path class=\"slice reactive tooltip-trigger\" d=\"M306.000000 0.000000 A267.000000 267.000000 0 0 1 312.327722 0.074992 L311.694950 26.767493 A240.300000 240.300000 0 0 0 306.000000 26.700000 z\"/><desc class=\"value\">688</desc><desc class=\"x centered\">309.00587913191157</desc><desc class=\"y centered\">13.367811209530544</desc></g><g class=\"slice\"><desc class=\"label\">Open</desc><path class=\"slice reactive tooltip-trigger\" d=\"M312.327722 0.074992 A267.000000 267.000000 0 0 1 341.108481 2.318315 L337.597633 28.786483 A240.300000 240.300000 0 0 0 311.694950 26.767493 z\"/><desc class=\"value\">3140</desc><desc class=\"x centered\">325.71102015846253</desc><desc class=\"y centered\">14.117026701454876</desc></g><g class=\"slice\"><desc class=\"value\">0</desc><desc class=\"x centered\">339.35305685661547</desc><desc class=\"y centered\">15.552398901243492</desc></g><g class=\"slice\"><desc class=\"value\">0</desc><desc class=\"x centered\">339.35305685661547</desc><desc class=\"y centered\">15.552398901243492</desc></g><g class=\"slice\"><desc class=\"value\">0</desc><desc class=\"x centered\">339.35305685661547</desc><desc class=\"y centered\">15.552398901243492</desc></g><g class=\"slice\"><desc class=\"value\">0</desc><desc class=\"x centered\">339.35305685661547</desc><desc class=\"y centered\">15.552398901243492</desc></g><g class=\"slice\"><desc class=\"value\">0</desc><desc class=\"x centered\">339.35305685661547</desc><desc class=\"y centered\">15.552398901243492</desc></g><g class=\"slice\"><desc class=\"value\">0</desc><desc class=\"x centered\">339.35305685661547</desc><desc class=\"y centered\">15.552398901243492</desc></g><g class=\"slice\"><desc class=\"value\">0</desc><desc class=\"x centered\">339.35305685661547</desc><desc class=\"y centered\">15.552398901243492</desc></g><g class=\"slice\"><desc class=\"value\">0</desc><desc class=\"x centered\">339.35305685661547</desc><desc class=\"y centered\">15.552398901243492</desc></g><g class=\"slice\"><desc class=\"value\">0</desc><desc class=\"x centered\">339.35305685661547</desc><desc class=\"y centered\">15.552398901243492</desc></g><g class=\"slice\"><desc class=\"value\">0</desc><desc class=\"x centered\">339.35305685661547</desc><desc class=\"y centered\">15.552398901243492</desc></g><g class=\"slice\"><desc class=\"value\">0</desc><desc class=\"x centered\">339.35305685661547</desc><desc class=\"y centered\">15.552398901243492</desc></g><g class=\"slice\"><desc class=\"value\">0</desc><desc class=\"x centered\">339.35305685661547</desc><desc class=\"y centered\">15.552398901243492</desc></g><g class=\"slice\"><desc class=\"value\">0</desc><desc class=\"x centered\">339.35305685661547</desc><desc class=\"y centered\">15.552398901243492</desc></g><g class=\"slice\"><desc class=\"value\">0</desc><desc class=\"x centered\">339.35305685661547</desc><desc class=\"y centered\">15.552398901243492</desc></g><g class=\"slice\"><desc class=\"value\">0</desc><desc class=\"x centered\">339.35305685661547</desc><desc class=\"y centered\">15.552398901243492</desc></g><g class=\"big_slice\"><path class=\"slice reactive tooltip-trigger\" d=\"M306.000000 26.700000 A240.300000 240.300000 0 0 1 337.597633 28.786483 L306.000000 267.000000 A0.000000 0.000000 0 0 0 306.000000 267.000000 z\"/><desc class=\"value\">3828</desc><desc class=\"x centered\">313.91661153567816</desc><desc class=\"y centered\">147.1110940837595</desc></g></g></g><g class=\"series serie-1 color-1\"><g class=\"slices\"><g class=\"slice\"><desc class=\"label\">Completed</desc><path class=\"slice reactive tooltip-trigger\" d=\"M341.108481 2.318315 A267.000000 267.000000 0 0 1 459.972829 48.868462 L444.575546 70.681616 A240.300000 240.300000 0 0 0 337.597633 28.786483 z\"/><desc class=\"value\">14014</desc><desc class=\"x centered\">398.4953902771265</desc><desc class=\"y centered\">30.815908077021277</desc></g><g class=\"slice\"><desc class=\"label\">Completed - Dup</desc><path class=\"slice reactive tooltip-trigger\" d=\"M459.972829 48.868462 A267.000000 267.000000 0 0 1 542.031737 142.188066 L518.428564 154.669259 A240.300000 240.300000 0 0 0 444.575546 70.681616 z\"/><desc class=\"value\">13635</desc><desc class=\"x centered\">496.4815802073941</desc><desc class=\"y centered\">99.50346241878876</desc></g><g class=\"slice\"><desc class=\"label\">Open</desc><path class=\"slice reactive tooltip-trigger\" d=\"M542.031737 142.188066 A267.000000 267.000000 0 0 1 557.986998 178.730226 L532.788298 187.557204 A240.300000 240.300000 0 0 0 518.428564 154.669259 z\"/><desc class=\"value\">4339</desc><desc class=\"x centered\">538.4578444711183</desc><desc class=\"y centered\">165.50284218835782</desc></g><g class=\"slice\"><desc class=\"label\">Open - Dup</desc><path class=\"slice reactive tooltip-trigger\" d=\"M557.986998 178.730226 A267.000000 267.000000 0 0 1 565.733956 205.135051 L539.760561 211.321546 A240.300000 240.300000 0 0 0 532.788298 187.557204 z\"/><desc class=\"value\">2993</desc><desc class=\"x centered\">549.3908295416196</desc><desc class=\"y centered\">195.5911308376735</desc></g><g class=\"slice\"><desc class=\"value\">0</desc><desc class=\"x centered\">552.7472585914916</desc><desc class=\"y centered\">208.22829866693016</desc></g><g class=\"slice\"><desc class=\"value\">0</desc><desc class=\"x centered\">552.7472585914916</desc><desc class=\"y centered\">208.22829866693016</desc></g><g class=\"slice\"><desc class=\"value\">0</desc><desc class=\"x centered\">552.7472585914916</desc><desc class=\"y centered\">208.22829866693016</desc></g><g class=\"slice\"><desc class=\"value\">0</desc><desc class=\"x centered\">552.7472585914916</desc><desc class=\"y centered\">208.22829866693016</desc></g><g class=\"slice\"><desc class=\"value\">0</desc><desc class=\"x centered\">552.7472585914916</desc><desc class=\"y centered\">208.22829866693016</desc></g><g class=\"slice\"><desc class=\"value\">0</desc><desc class=\"x centered\">552.7472585914916</desc><desc class=\"y centered\">208.22829866693016</desc></g><g class=\"slice\"><desc class=\"value\">0</desc><desc class=\"x centered\">552.7472585914916</desc><desc class=\"y centered\">208.22829866693016</desc></g><g class=\"slice\"><desc class=\"value\">0</desc><desc class=\"x centered\">552.7472585914916</desc><desc class=\"y centered\">208.22829866693016</desc></g><g class=\"slice\"><desc class=\"value\">0</desc><desc class=\"x centered\">552.7472585914916</desc><desc class=\"y centered\">208.22829866693016</desc></g><g class=\"slice\"><desc class=\"value\">0</desc><desc class=\"x centered\">552.7472585914916</desc><desc class=\"y centered\">208.22829866693016</desc></g><g class=\"slice\"><desc class=\"value\">0</desc><desc class=\"x centered\">552.7472585914916</desc><desc class=\"y centered\">208.22829866693016</desc></g><g class=\"slice\"><desc class=\"value\">0</desc><desc class=\"x centered\">552.7472585914916</desc><desc class=\"y centered\">208.22829866693016</desc></g><g class=\"slice\"><desc class=\"value\">0</desc><desc class=\"x centered\">552.7472585914916</desc><desc class=\"y centered\">208.22829866693016</desc></g><g class=\"big_slice\"><path class=\"slice reactive tooltip-trigger\" d=\"M337.597633 28.786483 A240.300000 240.300000 0 0 1 539.760561 211.321546 L306.000000 267.000000 A0.000000 0.000000 0 0 0 306.000000 267.000000 z\"/><desc class=\"value\">34981</desc><desc class=\"x centered\">386.5194154002396</desc><desc class=\"y centered\">177.82238933676427</desc></g></g></g><g class=\"series serie-2 color-2\"><g class=\"slices\"><g class=\"slice\"><desc class=\"label\">Aluminum Siding</desc><path class=\"slice reactive tooltip-trigger\" d=\"M565.733956 205.135051 A267.000000 267.000000 0 0 1 571.334925 237.227903 L544.801432 240.205112 A240.300000 240.300000 0 0 0 539.760561 211.321546 z\"/><desc class=\"value\">3544</desc><desc class=\"x centered\">555.8731533480463</desc><desc class=\"y centered\">223.39117364679822</desc></g><g class=\"slice\"><desc class=\"label\">Asphalt</desc><path class=\"slice reactive tooltip-trigger\" d=\"M571.334925 237.227903 A267.000000 267.000000 0 0 1 571.451781 238.288467 L544.906603 241.159620 A240.300000 240.300000 0 0 0 544.801432 240.205112 z\"/><desc class=\"value\">116</desc><desc class=\"x centered\">558.1241883117711</desc><desc class=\"y centered\">239.2202201569101</desc></g><g class=\"slice\"><desc class=\"label\">Brick - Painted</desc><path class=\"slice reactive tooltip-trigger\" d=\"M571.451781 238.288467 A267.000000 267.000000 0 0 1 538.742018 397.844002 L515.467816 384.759602 A240.300000 240.300000 0 0 0 544.906603 241.159620 z\"/><desc class=\"value\">17994</desc><desc class=\"x centered\">554.4822250637576</desc><desc class=\"y centered\">317.9402230792535</desc></g><g class=\"slice\"><desc class=\"label\">Brick - Unpainted</desc><path class=\"slice reactive tooltip-trigger\" d=\"M538.742018 397.844002 A267.000000 267.000000 0 0 1 364.131943 527.594853 L358.318748 501.535367 A240.300000 240.300000 0 0 0 515.467816 384.759602 z\"/><desc class=\"value\">24359</desc><desc class=\"x centered\">457.28801766802167</desc><desc class=\"y centered\">470.59336484787605</desc></g><g class=\"slice\"><desc class=\"label\">Cement (Sidewalk, Alley, Wall, Curb)</desc><path class=\"slice reactive tooltip-trigger\" d=\"M364.131943 527.594853 A267.000000 267.000000 0 0 1 252.527398 528.590674 L257.874658 502.431607 A240.300000 240.300000 0 0 0 358.318748 501.535367 z\"/><desc class=\"value\">12224</desc><desc class=\"x centered\">308.2631703142374</desc><desc class=\"y centered\">520.6399033277862</desc></g><g class=\"slice\"><desc class=\"label\">Glass</desc><path class=\"slice reactive tooltip-trigger\" d=\"M252.527398 528.590674 A267.000000 267.000000 0 0 1 222.577092 520.632842 L230.919382 495.269557 A240.300000 240.300000 0 0 0 257.874658 502.431607 z\"/><desc class=\"value\">3371</desc><desc class=\"x centered\">240.86485914484336</desc><desc class=\"y centered\">512.1443165275894</desc></g><g class=\"slice\"><desc class=\"label\">Limestone</desc><path class=\"slice reactive tooltip-trigger\" d=\"M222.577092 520.632842 A267.000000 267.000000 0 0 1 218.229553 519.161354 L227.006598 493.945219 A240.300000 240.300000 0 0 0 230.919382 495.269557 z\"/><desc class=\"value\">499</desc><desc class=\"x centered\">224.6801522011472</desc><desc class=\"y centered\">507.26111806526546</desc></g><g class=\"slice\"><desc class=\"label\">Marble/Granite</desc><path class=\"slice reactive tooltip-trigger\" d=\"M218.229553 519.161354 A267.000000 267.000000 0 0 1 216.494262 518.550637 L225.444835 493.395573 A240.300000 240.300000 0 0 0 227.006598 493.945219 z\"/><desc class=\"value\">200</desc><desc class=\"x centered\">221.79331216928924</desc><desc class=\"y centered\">506.2646154879179</desc></g><g class=\"slice\"><desc class=\"label\">Metal - Painted</desc><path class=\"slice reactive tooltip-trigger\" d=\"M216.494262 518.550637 A267.000000 267.000000 0 0 1 92.539077 106.614731 L113.885169 122.653258 A240.300000 240.300000 0 0 0 225.444835 493.395573 z\"/><desc class=\"value\">54378</desc><desc class=\"x centered\">63.108208702531186</desc><desc class=\"y centered\">340.08830426481967</desc></g><g class=\"slice\"><desc class=\"label\">Metal - Unpainted</desc><path class=\"slice reactive tooltip-trigger\" d=\"M92.539077 106.614731 A267.000000 267.000000 0 0 1 175.721648 33.940885 L188.749483 57.246797 A240.300000 240.300000 0 0 0 113.885169 122.653258 z\"/><desc class=\"value\">12096</desc><desc class=\"x centered\">139.11459422475494</desc><desc class=\"y centered\">75.98276559631643</desc></g><g class=\"slice\"><desc class=\"label\">Other / Unknown Surface</desc><path class=\"slice reactive tooltip-trigger\" d=\"M175.721648 33.940885 A267.000000 267.000000 0 0 1 195.414026 23.977897 L206.472624 48.280108 A240.300000 240.300000 0 0 0 188.749483 57.246797 z\"/><desc class=\"value\">2400</desc><desc class=\"x centered\">191.49161245256678</desc><desc class=\"y centered\">40.668049800106985</desc></g><g class=\"slice\"><desc class=\"label\">Other/Unknown Surface</desc><path class=\"slice reactive tooltip-trigger\" d=\"M195.414026 23.977897 A267.000000 267.000000 0 0 1 217.908207 14.950727 L226.717387 40.155654 A240.300000 240.300000 0 0 0 206.472624 48.280108 z\"/><desc class=\"value\">2636</desc><desc class=\"x centered\">211.53069800144732</desc><desc class=\"y centered\">31.598484542035607</desc></g><g class=\"slice\"><desc class=\"label\">Stucco</desc><path class=\"slice reactive tooltip-trigger\" d=\"M217.908207 14.950727 A267.000000 267.000000 0 0 1 220.622365 14.018460 L229.160128 39.316614 A240.300000 240.300000 0 0 0 226.717387 40.155654 z\"/><desc class=\"value\">312</desc><desc class=\"x centered\">223.6008318503258</desc><desc class=\"y centered\">27.106899665201468</desc></g><g class=\"slice\"><desc class=\"label\">Tree</desc><path class=\"slice reactive tooltip-trigger\" d=\"M220.622365 14.018460 A267.000000 267.000000 0 0 1 222.079208 13.531460 L230.471287 38.878314 A240.300000 240.300000 0 0 0 229.160128 39.316614 z\"/><desc class=\"value\">167</desc><desc class=\"x centered\">225.58291413115393</desc><desc class=\"y centered\">26.435217040476516</desc></g><g class=\"slice\"><desc class=\"label\">Vinyl Siding</desc><path class=\"slice reactive tooltip-trigger\" d=\"M222.079208 13.531460 A267.000000 267.000000 0 0 1 237.183371 9.020792 L244.065034 34.818713 A240.300000 240.300000 0 0 0 230.471287 38.878314 z\"/><desc class=\"value\">1714</desc><desc class=\"x centered\">233.4180942607727</desc><desc class=\"y centered\">23.956404200271265</desc></g><g class=\"slice\"><desc class=\"label\">Wood - Painted</desc><path class=\"slice reactive tooltip-trigger\" d=\"M237.183371 9.020792 A267.000000 267.000000 0 0 1 287.884410 0.615268 L289.695969 27.253741 A240.300000 240.300000 0 0 0 244.065034 34.818713 z\"/><desc class=\"value\">5596</desc><desc class=\"x centered\">264.51462039828004</desc><desc class=\"y centered\">16.76553838589456</desc></g><g class=\"slice\"><desc class=\"label\">Wood - Unpainted</desc><path class=\"slice reactive tooltip-trigger\" d=\"M287.884410 0.615268 A267.000000 267.000000 0 0 1 306.000000 0.000000 L306.000000 26.700000 A240.300000 240.300000 0 0 0 289.695969 27.253741 z\"/><desc class=\"value\">1971</desc><desc class=\"x centered\">297.3901332226286</desc><desc class=\"y centered\">13.49616828521917</desc></g><g class=\"big_slice\"><path class=\"slice reactive tooltip-trigger\" d=\"M539.760561 211.321546 A240.300000 240.300000 0 1 1 306.000000 26.700000 L306.000000 267.000000 A0.000000 0.000000 0 1 0 306.000000 267.000000 z\"/><desc class=\"value\">143577</desc><desc class=\"x centered\">231.53141809363945</desc><desc class=\"y centered\">361.2891977315306</desc></g></g></g></g><g class=\"titles\"><text class=\"title plot_title\" x=\"400.0\" y=\"26\">311 Call Types</text></g><g class=\"plot overlay\" transform=\"translate(168, 46)\"><g class=\"series serie-0 color-0\"/><g class=\"series serie-1 color-1\"/><g class=\"series serie-2 color-2\"/></g><g class=\"plot text-overlay\" transform=\"translate(168, 46)\"><g class=\"series serie-0 color-0\"/><g class=\"series serie-1 color-1\"/><g class=\"series serie-2 color-2\"/></g><g class=\"plot tooltip-overlay\" transform=\"translate(168, 46)\"><g class=\"tooltip\" style=\"opacity: 0\" transform=\"translate(0 0)\"><rect class=\"tooltip-box\" height=\"0\" rx=\"0\" ry=\"0\" width=\"0\"/><g class=\"text\"/></g></g><g class=\"legends\" transform=\"translate(10, 56)\"><g class=\"legend reactive activate-serie\" id=\"activate-serie-0\"><rect class=\"color-0 reactive\" height=\"12\" width=\"12\" x=\"0.0\" y=\"1.0\"/><text x=\"17.0\" y=\"11.2\">Building Calls</text></g><g class=\"legend reactive activate-serie\" id=\"activate-serie-1\"><rect class=\"color-1 reactive\" height=\"12\" width=\"12\" x=\"0.0\" y=\"22.0\"/><text x=\"17.0\" y=\"32.2\">Alley Light Ca…</text><title>Alley Light Calls</title></g><g class=\"legend reactive activate-serie\" id=\"activate-serie-2\"><rect class=\"color-2 reactive\" height=\"12\" width=\"12\" x=\"0.0\" y=\"43.0\"/><text x=\"17.0\" y=\"53.2\">Graffiti Remov…</text><title>Graffiti Removal Calls</title></g></g><g class=\"legends\" transform=\"translate(790, 56)\"/></g></svg>\n",
       "            </figure>\n",
       "          </body>\n",
       "        </html>\n",
       "        "
      ],
      "text/plain": [
       "<IPython.core.display.HTML object>"
      ]
     },
     "metadata": {},
     "output_type": "display_data"
    }
   ],
   "source": [
    "pie_chart = pygal.Pie()\n",
    "pie_chart.title = '311 Call Types'\n",
    "pie_chart.add(\"Building Calls\", building_subtypes)\n",
    "pie_chart.add(\"Alley Light Calls\", alley_subtypes)\n",
    "pie_chart.add(\"Graffiti Removal Calls\", graffiti_subtypes)\n",
    "galplot(pie_chart)"
   ]
  },
  {
   "cell_type": "markdown",
   "metadata": {},
   "source": [
    "#### Calls by Ward"
   ]
  },
  {
   "cell_type": "code",
   "execution_count": 7,
   "metadata": {},
   "outputs": [
    {
     "data": {
      "text/plain": [
       "<matplotlib.figure.Figure at 0x232e8cafe10>"
      ]
     },
     "metadata": {},
     "output_type": "display_data"
    },
    {
     "data": {
      "image/png": "[encoded data removed]",
      "text/plain": [
       "<matplotlib.figure.Figure at 0x232e8cae898>"
      ]
     },
     "metadata": {},
     "output_type": "display_data"
    }
   ],
   "source": [
    "ward_type = \"Ward\"\n",
    "ward_alley = dfByType(alley, ward_type)\n",
    "ward_graffiti = dfByType(graffiti, ward_type)\n",
    "ward_buildings = dfByType(building, ward_type)\n",
    "    \n",
    "ward_alley\n",
    "\n",
    "plt.figure(0)\n",
    "fig, ax = plt.subplots()\n",
    "ax.bar(ward_alley['Ward'], ward_alley['COUNT'], label=\"Alley Light Calls\")\n",
    "ax.bar(ward_graffiti['Ward'], ward_graffiti['COUNT'], label=\"Graffiti Removal Calls\")\n",
    "ax.bar(ward_buildings['Ward'], ward_buildings['COUNT'], label=\"Building Calls\")\n",
    "plt.xlabel(\"Ward\")\n",
    "plt.ylabel(\"Calls\")\n",
    "plt.title(\"Calls by Ward\")\n",
    "ax.legend()\n",
    "\n",
    "plt.show()"
   ]
  },
  {
   "cell_type": "code",
   "execution_count": 8,
   "metadata": {
    "scrolled": true
   },
   "outputs": [
    {
     "name": "stdout",
     "output_type": "stream",
     "text": [
      "\n",
      "Alley Light calls by Month\n",
      "              COUNT                                                         \n",
      "              count       mean        std   min    25%    50%     75%    max\n",
      "Creation Date                                                               \n",
      "2017-01-31     31.0  84.064516  39.507751  21.0  51.00   88.0  112.00  157.0\n",
      "2017-02-28     28.0  91.142857  38.716170  28.0  44.75   99.0  119.25  162.0\n",
      "2017-03-31     31.0  79.161290  33.365748  19.0  51.00   78.0  107.50  123.0\n",
      "2017-04-30     30.0  72.966667  30.830441  21.0  48.50   77.0   92.75  129.0\n",
      "2017-05-31     31.0  73.290323  34.171327  19.0  37.00   74.0   93.50  129.0\n",
      "2017-06-30     30.0  80.066667  32.624228  24.0  54.00   85.0  101.00  145.0\n",
      "2017-07-31     31.0  60.225806  29.490913  16.0  28.00   74.0   84.50  116.0\n",
      "2017-08-31     31.0  65.451613  28.262860  19.0  38.50   70.0   85.00  111.0\n",
      "2017-09-30     30.0  60.533333  27.041135  16.0  36.00   68.0   79.75  109.0\n",
      "2017-10-31     31.0  81.419355  39.470474  21.0  42.00   84.0  116.50  139.0\n",
      "2017-11-30     30.0  94.966667  47.720077  29.0  42.50  104.0  134.00  177.0\n",
      "2017-12-31     31.0  75.354839  44.353541  10.0  37.00   77.0  115.00  148.0\n",
      "2018-01-31     31.0  69.451613  32.484703  16.0  39.50   80.0   97.00  124.0\n",
      "2018-02-28     28.0  73.785714  46.351601   8.0  41.75   67.5  104.75  206.0\n",
      "2018-03-31     29.0  98.827586  37.617501  29.0  70.00  102.0  115.00  175.0\n",
      "\n",
      "Graffiti calls by Month\n",
      "              COUNT                                                       \\\n",
      "              count        mean         std   min     25%    50%     75%   \n",
      "Creation Date                                                              \n",
      "2017-01-31     31.0  291.129032  163.030006  31.0  114.50  309.0  432.00   \n",
      "2017-02-28     28.0  331.500000  187.281626  58.0  103.25  365.5  445.25   \n",
      "2017-03-31     31.0  280.064516  149.658931  41.0  131.00  318.0  382.00   \n",
      "2017-04-30     30.0  290.266667  160.975675  49.0   96.50  351.0  416.75   \n",
      "2017-05-31     31.0  286.161290  180.311785  45.0   97.50  306.0  387.50   \n",
      "2017-06-30     30.0  255.900000  177.094432  53.0  109.75  201.0  399.25   \n",
      "2017-07-31     31.0  230.064516  177.061371  43.0   73.00  155.0  383.50   \n",
      "2017-08-31     31.0  332.129032  188.179479  52.0  160.00  351.0  463.00   \n",
      "2017-09-30     30.0  396.266667  321.472467  49.0   85.25  361.5  562.50   \n",
      "2017-10-31     31.0  350.483871  228.627918  44.0   78.50  396.0  543.00   \n",
      "2017-11-30     30.0  351.933333  206.999073  28.0  120.25  404.0  500.75   \n",
      "2017-12-31     31.0  315.967742  214.710578   3.0   75.50  406.0  486.00   \n",
      "2018-01-31     31.0  344.967742  218.025761  22.0   88.50  407.0  491.50   \n",
      "2018-02-28     28.0  376.321429  248.775379  42.0   90.75  465.0  573.75   \n",
      "2018-03-31     29.0  352.310345  203.347890  50.0  120.00  430.0  489.00   \n",
      "\n",
      "                       \n",
      "                  max  \n",
      "Creation Date          \n",
      "2017-01-31      549.0  \n",
      "2017-02-28      634.0  \n",
      "2017-03-31      566.0  \n",
      "2017-04-30      542.0  \n",
      "2017-05-31      619.0  \n",
      "2017-06-30      596.0  \n",
      "2017-07-31      577.0  \n",
      "2017-08-31      680.0  \n",
      "2017-09-30     1226.0  \n",
      "2017-10-31      736.0  \n",
      "2017-11-30      707.0  \n",
      "2017-12-31      600.0  \n",
      "2018-01-31      645.0  \n",
      "2018-02-28      746.0  \n",
      "2018-03-31      610.0  \n",
      "\n",
      "Building calls by Month\n",
      "                                  COUNT                                        \\\n",
      "                                  count       mean       std  min   25%   50%   \n",
      "DATE SERVICE REQUEST WAS RECEIVED                                               \n",
      "2017-01-31                         31.0   7.483871  5.644295  1.0  2.50   6.0   \n",
      "2017-02-28                         28.0  13.178571  7.288009  1.0  7.00  13.0   \n",
      "2017-03-31                         30.0  12.600000  5.986191  2.0  9.00  12.0   \n",
      "2017-04-30                         30.0  12.733333  6.872902  2.0  6.50  12.5   \n",
      "2017-05-31                         31.0  12.903226  8.271859  1.0  5.50  12.0   \n",
      "2017-06-30                         29.0  10.034483  5.199469  1.0  6.00  11.0   \n",
      "2017-07-31                         30.0  10.800000  6.172240  1.0  6.00  12.0   \n",
      "2017-08-31                         31.0  11.290323  5.622535  1.0  9.00  11.0   \n",
      "2017-09-30                         30.0   8.800000  4.641641  1.0  5.25   9.0   \n",
      "2017-10-31                         31.0   9.032258  4.636693  1.0  6.00  10.0   \n",
      "2017-11-30                         29.0   7.000000  4.698024  1.0  2.00   6.0   \n",
      "2017-12-31                         29.0   6.655172  5.715117  1.0  3.00   5.0   \n",
      "2018-01-31                         30.0   8.066667  4.578310  1.0  5.00   7.5   \n",
      "2018-02-28                         28.0   7.500000  4.255715  1.0  4.00   7.5   \n",
      "2018-03-31                         29.0  12.689655  6.262721  3.0  8.00  14.0   \n",
      "\n",
      "                                                \n",
      "                                     75%   max  \n",
      "DATE SERVICE REQUEST WAS RECEIVED               \n",
      "2017-01-31                         10.50  19.0  \n",
      "2017-02-28                         19.00  32.0  \n",
      "2017-03-31                         16.75  28.0  \n",
      "2017-04-30                         17.75  27.0  \n",
      "2017-05-31                         19.00  29.0  \n",
      "2017-06-30                         13.00  18.0  \n",
      "2017-07-31                         16.00  21.0  \n",
      "2017-08-31                         14.50  24.0  \n",
      "2017-09-30                         11.75  20.0  \n",
      "2017-10-31                         11.50  18.0  \n",
      "2017-11-30                         11.00  18.0  \n",
      "2017-12-31                          9.00  24.0  \n",
      "2018-01-31                         11.00  18.0  \n",
      "2018-02-28                         10.50  17.0  \n",
      "2018-03-31                         18.00  25.0  \n"
     ]
    }
   ],
   "source": [
    "date_alley = dfByType(alley, \"Creation Date\")\n",
    "date_alley.set_index(['Creation Date'],inplace=True)\n",
    "date_alley = date_alley.groupby(pd.Grouper(freq='M'))\n",
    "\n",
    "\n",
    "date_graffiti = dfByType(graffiti, \"Creation Date\")\n",
    "date_graffiti.set_index(['Creation Date'],inplace=True)\n",
    "date_graffiti = date_graffiti.groupby(pd.Grouper(freq='M'))\n",
    "\n",
    "date_buildings = dfByType(building, \"DATE SERVICE REQUEST WAS RECEIVED\")\n",
    "date_buildings.set_index([\"DATE SERVICE REQUEST WAS RECEIVED\"],inplace=True)\n",
    "date_buildings = date_buildings.groupby(pd.Grouper(freq='M'))\n",
    "\n",
    "print(\"\\nAlley Light calls by Month\")\n",
    "print(date_alley.describe())\n",
    "print(\"\\nGraffiti calls by Month\")\n",
    "print(date_graffiti.describe())\n",
    "print(\"\\nBuilding calls by Month\")\n",
    "print(date_buildings.describe())\n"
   ]
  },
  {
   "cell_type": "code",
   "execution_count": 9,
   "metadata": {},
   "outputs": [
    {
     "data": {
      "image/png": "[encoded data removed]",
      "text/plain": [
       "<matplotlib.figure.Figure at 0x232da2fcdd8>"
      ]
     },
     "metadata": {},
     "output_type": "display_data"
    }
   ],
   "source": [
    "RESOLUTION = \"Resolution Time\"\n",
    "graffiti[RESOLUTION] = (graffiti['Completion Date'] - graffiti['Creation Date'])\n",
    "graffiti_by_resolution = groupByType(graffiti, RESOLUTION)\n",
    "graffiti_y = []\n",
    "graffiti_x = []\n",
    "\n",
    "for point in graffiti_by_resolution:\n",
    "    graffiti_x.append((point['label'].days))\n",
    "    graffiti_y.append(point['value'])\n",
    "    \n",
    "alley[RESOLUTION] = (alley['Completion Date'] - alley['Creation Date'])\n",
    "alley_by_resolution = groupByType(alley, RESOLUTION)\n",
    "alley_y = []\n",
    "alley_x = []\n",
    "\n",
    "for point in alley_by_resolution:\n",
    "    alley_x.append((point['label'].days))\n",
    "    alley_y.append(point['value'])\n",
    "    \n",
    "    \n",
    "plt.figure(1)\n",
    "plt.title(\"Response time in Day\")\n",
    "plt.plot(graffiti_x, graffiti_y, label=\"Graffiti\")\n",
    "plt.plot(alley_x, alley_y, label=\"Alley Lights\")\n",
    "plt.legend()\n",
    "plt.show()"
   ]
  },
  {
   "cell_type": "markdown",
   "metadata": {},
   "source": [
    "## Problem 2: Data Augmentation and APIs"
   ]
  },
  {
   "cell_type": "code",
   "execution_count": 10,
   "metadata": {},
   "outputs": [],
   "source": [
    "from census import Census\n",
    "from us import states"
   ]
  },
  {
   "cell_type": "code",
   "execution_count": 11,
   "metadata": {},
   "outputs": [
    {
     "data": {
      "text/plain": [
       "[{'B25034_010E': 333531.0, 'NAME': 'Illinois', 'state': '17'}]"
      ]
     },
     "execution_count": 11,
     "metadata": {},
     "output_type": "execute_result"
    }
   ],
   "source": [
    "c = Census(\"fca63f0c87016d46f9bc5ca3a161d6b85f86f04a\")\n",
    "c.acs5.get(('NAME', 'B25034_010E'), {'for':'state:{}'.format(states.IL.fips)}, year=2016)\n"
   ]
  },
  {
   "cell_type": "markdown",
   "metadata": {},
   "source": [
    "## Problem 3: 3600 W Roosevelt"
   ]
  },
  {
   "cell_type": "markdown",
   "metadata": {},
   "source": [
    "### 3a.\n",
    "Of the three types of requests you have data for, which request type is the most likely given the call came from 3600 W Roosevelt Ave? What are the probabilities for each type of request?"
   ]
  },
  {
   "cell_type": "code",
   "execution_count": 12,
   "metadata": {},
   "outputs": [
    {
     "name": "stdout",
     "output_type": "stream",
     "text": [
      "0.016294559903947858% of Alley calls (570) were from this address's Community Area.\n",
      "0.006219362532674187% of Graffiti calls (897) were from this address's Community Area.\n",
      "0.02719572001783326% of Building calls (122) were from this address's Community Area.\n"
     ]
    }
   ],
   "source": [
    "CA = \"Community Area\"\n",
    "CA_NORTH_LAWNDALE = 29\n",
    "\n",
    "total_alley = len(alley)\n",
    "total_graffiti = len(graffiti)\n",
    "total_building = len(building)\n",
    "\n",
    "NL_alley = len(alley[alley[CA] == CA_NORTH_LAWNDALE])\n",
    "NL_graffiti = len(graffiti[graffiti[CA] == CA_NORTH_LAWNDALE])\n",
    "NL_building = len(building[building[CA] == CA_NORTH_LAWNDALE])\n",
    "\n",
    "pct_alley = NL_alley/total_alley\n",
    "pct_graffiti = NL_graffiti/total_graffiti\n",
    "pct_building = NL_building/total_building\n",
    "\n",
    "print(\"{}% of Alley calls ({}) were from this address's Community Area.\".format(pct_alley, NL_alley))\n",
    "print(\"{}% of Graffiti calls ({}) were from this address's Community Area.\".format(pct_graffiti, NL_graffiti))\n",
    "print(\"{}% of Building calls ({}) were from this address's Community Area.\".format(pct_building, NL_building))\n"
   ]
  },
  {
   "cell_type": "markdown",
   "metadata": {},
   "source": [
    "Above, I've decided to group by granularity of Community Area. 3600 W Roosevelt Ave is drawn currently under Community Area 29. Using this detail, I've compiled the percentages for each of our three request types above. Although the highest proportion of calls from Community Area 29 are for Building calls, the highest total calls from Community Area 29 were for graffiti removal requests. Therefore, it is most likely that a call from this community area will be for a request for graffiti removal."
   ]
  },
  {
   "cell_type": "markdown",
   "metadata": {},
   "source": [
    "### 3b.\n",
    "Let’s now assume that a call comes in about Graffiti Removal. Which is more likely – that the call came from Garfield Park or Uptown? How much more or less likely is it to be from Garfield Park vs Uptown?"
   ]
  },
  {
   "cell_type": "code",
   "execution_count": 13,
   "metadata": {},
   "outputs": [
    {
     "name": "stdout",
     "output_type": "stream",
     "text": [
      "Garfield calls: 0.4291845493562232%\n",
      "Uptown calls: 1.7042578712723693%\n",
      "It is 3.97092084006462x more likely that the call was from Uptown than Garfield\n"
     ]
    }
   ],
   "source": [
    "CA_EAST_GARFIELD=26\n",
    "CA_WEST_GARFIELD=27\n",
    "CA_UPTOWN=3\n",
    "\n",
    "east = len(graffiti[graffiti[CA] == CA_EAST_GARFIELD ])\n",
    "west = len(graffiti[graffiti[CA] == CA_WEST_GARFIELD])\n",
    "uptown = len(graffiti[graffiti[CA] == CA_UPTOWN])\n",
    "\n",
    "pct_garfield = (east + west)/total_graffiti*100\n",
    "pct_uptown = uptown/total_graffiti*100\n",
    "\n",
    "print(\"Garfield calls: {}%\".format(pct_garfield))\n",
    "print(\"Uptown calls: {}%\".format(pct_uptown))\n",
    "print(\"It is {}x more likely that the call was from Uptown than Garfield\".format(pct_uptown/pct_garfield))"
   ]
  },
  {
   "cell_type": "markdown",
   "metadata": {},
   "source": [
    "Above, I used all 2017 data to determine the percentage of the total graffiti calls coming from East & West Garfield vs the percentage of calls oming from Uptown, based on the Community Area designations of each. \n",
    "\n",
    "Given this data, roughly 0.43% of calls came from Garfield, whereas 1.7% of calls came from Uptown. Therefore, it is roughly four times more likely that a call for graffiti removal will come from Uptown rather than Garfield."
   ]
  },
  {
   "cell_type": "markdown",
   "metadata": {},
   "source": [
    "### 3c.\n",
    "Now assume that you don’t have access to all the raw data and you know the following things:\n",
    "\n",
    "- There are a total of 1000 calls, 600 from Garfield Park and 400 from Uptown. \n",
    "- Of the 600 calls from Garfield Park, 100 of them are about Graffiti Removal. Of the 400 calls from Uptown, 160 are about Graffiti Removal. \n",
    "\n",
    "If a call comes about Graffiti Removal, how much more/less likely is it that the call came from Garfield Park versus Uptown?"
   ]
  },
  {
   "cell_type": "code",
   "execution_count": 14,
   "metadata": {},
   "outputs": [
    {
     "name": "stdout",
     "output_type": "stream",
     "text": [
      "% of graffiti-related calls from Garfield: 38.46153846153846%\n",
      "% of graffiti-related calls from Uptown 61.53846153846154%\n",
      "It is 1.6x more likely that the call was from Uptown than Garfield\n"
     ]
    }
   ],
   "source": [
    "total_calls = 1000\n",
    "garfield_total_calls = 600\n",
    "garfield_graffiti_calls = 100\n",
    "uptown_total_calls = 400\n",
    "uptown_graffiti_calls = 160\n",
    "\n",
    "# Given the call is graffiti removal related, what is the likelihood it is from Garfield Park?\n",
    "total_graffiti_calls = garfield_graffiti_calls + uptown_graffiti_calls\n",
    "\n",
    "pct_graffiti_garfield = 100*garfield_graffiti_calls/total_graffiti_calls\n",
    "pct_graffiti_uptown = 100*uptown_graffiti_calls/total_graffiti_calls\n",
    "\n",
    "graffiti_ratio = pct_graffiti_uptown/pct_graffiti_garfield\n",
    "\n",
    "print(\"% of graffiti-related calls from Garfield: {}%\".format(pct_graffiti_garfield))\n",
    "print(\"% of graffiti-related calls from Uptown {}%\".format(pct_graffiti_uptown))\n",
    "print(\"It is {}x more likely that the call was from Uptown than Garfield\".format(pct_graffiti_uptown/pct_graffiti_garfield))"
   ]
  },
  {
   "cell_type": "markdown",
   "metadata": {},
   "source": [
    "Above, using the given data from the problem, we must take the conditional expectation for each neighborhood based on the condition that the call is graffiti-related. Given the call is graffiti-related, there are a total of 100+160=260 calls among the two neighborhoods. Roughly 38% of those calls are from Garfield, and 62% are from Uptown. Therefore it is 1.6 times as likely that the call was from Uptown, rather than Garfield, based on the aggregate data given."
   ]
  }
 ],
 "metadata": {
  "kernelspec": {
   "display_name": "Python 3",
   "language": "python",
   "name": "python3"
  },
  "language_info": {
   "codemirror_mode": {
    "name": "ipython",
    "version": 3
   },
   "file_extension": ".py",
   "mimetype": "text/x-python",
   "name": "python",
   "nbconvert_exporter": "python",
   "pygments_lexer": "ipython3",
   "version": "3.6.3"
  }
 },
 "nbformat": 4,
 "nbformat_minor": 2
}
